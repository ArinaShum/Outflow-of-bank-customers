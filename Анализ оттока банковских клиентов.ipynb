{
 "cells": [
  {
   "cell_type": "markdown",
   "metadata": {},
   "source": [
    "# Проект: Анализ оттока клиентов банка"
   ]
  },
  {
   "cell_type": "markdown",
   "metadata": {},
   "source": [
    "## Шаг 1. Загрузка данных."
   ]
  },
  {
   "cell_type": "code",
   "execution_count": 1,
   "metadata": {},
   "outputs": [],
   "source": [
    "import pandas as pd\n",
    "\n",
    "import numpy as np\n",
    "\n",
    "from matplotlib import pyplot as plt\n",
    "import matplotlib\n",
    "import seaborn as sns\n",
    "\n",
    "from scipy import stats as st\n",
    "from scipy.stats import ttest_ind\n",
    "\n",
    "pd.options.display.float_format = '{:,.1f}'.format"
   ]
  },
  {
   "cell_type": "code",
   "execution_count": 2,
   "metadata": {},
   "outputs": [],
   "source": [
    "try:\n",
    "    data = (\n",
    "        pd.read_csv('https://code.s3.yandex.net/datasets/bank_scrooge.csv'))\n",
    "        \n",
    "except:\n",
    "    data = (\n",
    "        pd.read_csv('bank_scrooge.csv'))"
   ]
  },
  {
   "cell_type": "code",
   "execution_count": 3,
   "metadata": {},
   "outputs": [
    {
     "data": {
      "text/html": [
       "<div>\n",
       "<style scoped>\n",
       "    .dataframe tbody tr th:only-of-type {\n",
       "        vertical-align: middle;\n",
       "    }\n",
       "\n",
       "    .dataframe tbody tr th {\n",
       "        vertical-align: top;\n",
       "    }\n",
       "\n",
       "    .dataframe thead th {\n",
       "        text-align: right;\n",
       "    }\n",
       "</style>\n",
       "<table border=\"1\" class=\"dataframe\">\n",
       "  <thead>\n",
       "    <tr style=\"text-align: right;\">\n",
       "      <th></th>\n",
       "      <th>USERID</th>\n",
       "      <th>score</th>\n",
       "      <th>city</th>\n",
       "      <th>gender</th>\n",
       "      <th>age</th>\n",
       "      <th>equity</th>\n",
       "      <th>balance</th>\n",
       "      <th>products</th>\n",
       "      <th>credit_card</th>\n",
       "      <th>last_activity</th>\n",
       "      <th>EST_SALARY</th>\n",
       "      <th>churn</th>\n",
       "    </tr>\n",
       "  </thead>\n",
       "  <tbody>\n",
       "    <tr>\n",
       "      <th>0</th>\n",
       "      <td>183012</td>\n",
       "      <td>850.0</td>\n",
       "      <td>Рыбинск</td>\n",
       "      <td>Ж</td>\n",
       "      <td>25.0</td>\n",
       "      <td>1</td>\n",
       "      <td>59,214.8</td>\n",
       "      <td>2</td>\n",
       "      <td>0</td>\n",
       "      <td>1</td>\n",
       "      <td>75,719.1</td>\n",
       "      <td>1</td>\n",
       "    </tr>\n",
       "    <tr>\n",
       "      <th>1</th>\n",
       "      <td>146556</td>\n",
       "      <td>861.0</td>\n",
       "      <td>Рыбинск</td>\n",
       "      <td>Ж</td>\n",
       "      <td>37.0</td>\n",
       "      <td>5</td>\n",
       "      <td>850,594.3</td>\n",
       "      <td>3</td>\n",
       "      <td>1</td>\n",
       "      <td>0</td>\n",
       "      <td>86,621.8</td>\n",
       "      <td>0</td>\n",
       "    </tr>\n",
       "    <tr>\n",
       "      <th>2</th>\n",
       "      <td>120722</td>\n",
       "      <td>892.0</td>\n",
       "      <td>Рыбинск</td>\n",
       "      <td>Ж</td>\n",
       "      <td>30.0</td>\n",
       "      <td>0</td>\n",
       "      <td>NaN</td>\n",
       "      <td>1</td>\n",
       "      <td>1</td>\n",
       "      <td>1</td>\n",
       "      <td>107,683.3</td>\n",
       "      <td>0</td>\n",
       "    </tr>\n",
       "    <tr>\n",
       "      <th>3</th>\n",
       "      <td>225363</td>\n",
       "      <td>866.0</td>\n",
       "      <td>Ярославль</td>\n",
       "      <td>Ж</td>\n",
       "      <td>51.0</td>\n",
       "      <td>5</td>\n",
       "      <td>1,524,746.3</td>\n",
       "      <td>2</td>\n",
       "      <td>0</td>\n",
       "      <td>1</td>\n",
       "      <td>174,423.5</td>\n",
       "      <td>1</td>\n",
       "    </tr>\n",
       "    <tr>\n",
       "      <th>4</th>\n",
       "      <td>157978</td>\n",
       "      <td>730.0</td>\n",
       "      <td>Ярославль</td>\n",
       "      <td>М</td>\n",
       "      <td>34.0</td>\n",
       "      <td>5</td>\n",
       "      <td>174.0</td>\n",
       "      <td>1</td>\n",
       "      <td>1</td>\n",
       "      <td>0</td>\n",
       "      <td>67,353.2</td>\n",
       "      <td>1</td>\n",
       "    </tr>\n",
       "  </tbody>\n",
       "</table>\n",
       "</div>"
      ],
      "text/plain": [
       "   USERID  score       city gender  age  equity     balance  products  \\\n",
       "0  183012  850.0    Рыбинск      Ж 25.0       1    59,214.8         2   \n",
       "1  146556  861.0    Рыбинск      Ж 37.0       5   850,594.3         3   \n",
       "2  120722  892.0    Рыбинск      Ж 30.0       0         NaN         1   \n",
       "3  225363  866.0  Ярославль      Ж 51.0       5 1,524,746.3         2   \n",
       "4  157978  730.0  Ярославль      М 34.0       5       174.0         1   \n",
       "\n",
       "   credit_card  last_activity  EST_SALARY  churn  \n",
       "0            0              1    75,719.1      1  \n",
       "1            1              0    86,621.8      0  \n",
       "2            1              1   107,683.3      0  \n",
       "3            0              1   174,423.5      1  \n",
       "4            1              0    67,353.2      1  "
      ]
     },
     "execution_count": 3,
     "metadata": {},
     "output_type": "execute_result"
    }
   ],
   "source": [
    "data.head()"
   ]
  },
  {
   "cell_type": "code",
   "execution_count": 4,
   "metadata": {},
   "outputs": [
    {
     "name": "stdout",
     "output_type": "stream",
     "text": [
      "<class 'pandas.core.frame.DataFrame'>\n",
      "RangeIndex: 10000 entries, 0 to 9999\n",
      "Data columns (total 12 columns):\n",
      " #   Column         Non-Null Count  Dtype  \n",
      "---  ------         --------------  -----  \n",
      " 0   USERID         10000 non-null  int64  \n",
      " 1   score          10000 non-null  float64\n",
      " 2   city           10000 non-null  object \n",
      " 3   gender         10000 non-null  object \n",
      " 4   age            9974 non-null   float64\n",
      " 5   equity         10000 non-null  int64  \n",
      " 6   balance        7705 non-null   float64\n",
      " 7   products       10000 non-null  int64  \n",
      " 8   credit_card    10000 non-null  int64  \n",
      " 9   last_activity  10000 non-null  int64  \n",
      " 10  EST_SALARY     10000 non-null  float64\n",
      " 11  churn          10000 non-null  int64  \n",
      "dtypes: float64(4), int64(6), object(2)\n",
      "memory usage: 937.6+ KB\n"
     ]
    }
   ],
   "source": [
    "data.info()"
   ]
  },
  {
   "cell_type": "markdown",
   "metadata": {},
   "source": [
    "Всего в датасете представлена информация о 10 000 клиентах. Видны пропуски в столбцах про возраст и баланс и тип данных в нескольких столбцах стоит поменять на булевой."
   ]
  },
  {
   "cell_type": "markdown",
   "metadata": {},
   "source": [
    "## Шаг 2. Предобработка данных."
   ]
  },
  {
   "cell_type": "markdown",
   "metadata": {},
   "source": [
    "Сначала посчитаем кол-во и процент пропусков."
   ]
  },
  {
   "cell_type": "code",
   "execution_count": 5,
   "metadata": {},
   "outputs": [
    {
     "data": {
      "text/plain": [
       "balance          2295\n",
       "age                26\n",
       "USERID              0\n",
       "score               0\n",
       "city                0\n",
       "gender              0\n",
       "equity              0\n",
       "products            0\n",
       "credit_card         0\n",
       "last_activity       0\n",
       "EST_SALARY          0\n",
       "churn               0\n",
       "dtype: int64"
      ]
     },
     "execution_count": 5,
     "metadata": {},
     "output_type": "execute_result"
    }
   ],
   "source": [
    "data.isna().sum().sort_values(ascending=False)"
   ]
  },
  {
   "cell_type": "code",
   "execution_count": 6,
   "metadata": {},
   "outputs": [
    {
     "data": {
      "text/plain": [
       "balance         22.9\n",
       "age              0.3\n",
       "USERID           0.0\n",
       "score            0.0\n",
       "city             0.0\n",
       "gender           0.0\n",
       "equity           0.0\n",
       "products         0.0\n",
       "credit_card      0.0\n",
       "last_activity    0.0\n",
       "EST_SALARY       0.0\n",
       "churn            0.0\n",
       "dtype: float64"
      ]
     },
     "execution_count": 6,
     "metadata": {},
     "output_type": "execute_result"
    }
   ],
   "source": [
    "(data.isna().mean()*100).sort_values(ascending=False)"
   ]
  },
  {
   "cell_type": "markdown",
   "metadata": {},
   "source": [
    "Пропуски в балансе - почти 23%, мы не можем их ничем заполнить и также не можем удалить - это почти четверть данных, поэтому пропуски в балансе оставляем, как есть.\n",
    "\n",
    "Пропуски в возраста - меньше 1%, предлагаю их оставить."
   ]
  },
  {
   "cell_type": "code",
   "execution_count": 7,
   "metadata": {},
   "outputs": [
    {
     "data": {
      "text/plain": [
       "'Всего полных дубликатов: 0'"
      ]
     },
     "execution_count": 7,
     "metadata": {},
     "output_type": "execute_result"
    }
   ],
   "source": [
    "f\"Всего полных дубликатов: {data.duplicated().sum()}\""
   ]
  },
  {
   "cell_type": "markdown",
   "metadata": {},
   "source": [
    "Посмотрим на неявные дубликаты: посмотрим уникальные значения в колонках город и пол."
   ]
  },
  {
   "cell_type": "code",
   "execution_count": 8,
   "metadata": {},
   "outputs": [
    {
     "data": {
      "text/plain": [
       "array(['Рыбинск', 'Ярославль', 'Ростов'], dtype=object)"
      ]
     },
     "execution_count": 8,
     "metadata": {},
     "output_type": "execute_result"
    }
   ],
   "source": [
    "data['city'].unique()"
   ]
  },
  {
   "cell_type": "code",
   "execution_count": 9,
   "metadata": {},
   "outputs": [
    {
     "data": {
      "text/plain": [
       "array(['Ж', 'М'], dtype=object)"
      ]
     },
     "execution_count": 9,
     "metadata": {},
     "output_type": "execute_result"
    }
   ],
   "source": [
    "data['gender'].unique()"
   ]
  },
  {
   "cell_type": "markdown",
   "metadata": {},
   "source": [
    "С написанием все корректно. Далее посмотрим совпадения одновременно по идентификатору пользователя, возрасту, городу и полу."
   ]
  },
  {
   "cell_type": "code",
   "execution_count": 10,
   "metadata": {},
   "outputs": [
    {
     "data": {
      "text/plain": [
       "USERID           0\n",
       "score            0\n",
       "city             0\n",
       "gender           0\n",
       "age              0\n",
       "equity           0\n",
       "balance          0\n",
       "products         0\n",
       "credit_card      0\n",
       "last_activity    0\n",
       "EST_SALARY       0\n",
       "churn            0\n",
       "dtype: int64"
      ]
     },
     "execution_count": 10,
     "metadata": {},
     "output_type": "execute_result"
    }
   ],
   "source": [
    "data.loc[data.duplicated(subset=['USERID', 'age', 'city', 'gender'], keep=False)].count()"
   ]
  },
  {
   "cell_type": "markdown",
   "metadata": {},
   "source": [
    "Таких нет, поэтому можно переходить к столбцам - приведем их все к нижнему регистру."
   ]
  },
  {
   "cell_type": "code",
   "execution_count": 11,
   "metadata": {},
   "outputs": [],
   "source": [
    "data.columns = data.columns.str.lower()"
   ]
  },
  {
   "cell_type": "code",
   "execution_count": 12,
   "metadata": {},
   "outputs": [
    {
     "data": {
      "text/plain": [
       "Index(['userid', 'score', 'city', 'gender', 'age', 'equity', 'balance',\n",
       "       'products', 'credit_card', 'last_activity', 'est_salary', 'churn'],\n",
       "      dtype='object')"
      ]
     },
     "execution_count": 12,
     "metadata": {},
     "output_type": "execute_result"
    }
   ],
   "source": [
    "data.columns"
   ]
  },
  {
   "cell_type": "markdown",
   "metadata": {},
   "source": [
    "Поменяем тип данных на булевой в столбцах churn, last_activity, credit_card."
   ]
  },
  {
   "cell_type": "code",
   "execution_count": 13,
   "metadata": {},
   "outputs": [],
   "source": [
    "data['churn']=data['churn'].astype('bool')"
   ]
  },
  {
   "cell_type": "code",
   "execution_count": 14,
   "metadata": {},
   "outputs": [],
   "source": [
    "data['last_activity']=data['last_activity'].astype('bool')"
   ]
  },
  {
   "cell_type": "code",
   "execution_count": 15,
   "metadata": {},
   "outputs": [],
   "source": [
    "data['credit_card']=data['credit_card'].astype('bool')"
   ]
  },
  {
   "cell_type": "markdown",
   "metadata": {},
   "source": [
    "Проверим числовые значения на аномалии."
   ]
  },
  {
   "cell_type": "code",
   "execution_count": 16,
   "metadata": {},
   "outputs": [
    {
     "data": {
      "text/plain": [
       "count   9,974.0\n",
       "mean       42.7\n",
       "std        12.2\n",
       "min        18.0\n",
       "25%        33.0\n",
       "50%        40.0\n",
       "75%        51.0\n",
       "max        86.0\n",
       "Name: age, dtype: float64"
      ]
     },
     "execution_count": 16,
     "metadata": {},
     "output_type": "execute_result"
    }
   ],
   "source": [
    "data['age'].describe()"
   ]
  },
  {
   "cell_type": "code",
   "execution_count": 17,
   "metadata": {},
   "outputs": [
    {
     "data": {
      "text/plain": [
       "<AxesSubplot:>"
      ]
     },
     "execution_count": 17,
     "metadata": {},
     "output_type": "execute_result"
    },
    {
     "data": {
      "image/png": "[encoded data removed]",
      "text/plain": [
       "<Figure size 432x288 with 1 Axes>"
      ]
     },
     "metadata": {
      "needs_background": "light"
     },
     "output_type": "display_data"
    }
   ],
   "source": [
    "data['age'].hist(color='green')"
   ]
  },
  {
   "cell_type": "markdown",
   "metadata": {},
   "source": [
    "В датасете нет детей (минимальное значение - 18) и нет аномально взрослых людей (максимальный возраст - 86), с данным все нормально.\n",
    "Также по гистограмме можно увидеть, что большинство в датасете - клиенты от 30 до 40 лет."
   ]
  },
  {
   "cell_type": "code",
   "execution_count": 18,
   "metadata": {},
   "outputs": [
    {
     "data": {
      "text/plain": [
       "count         7,705.0\n",
       "mean        827,794.3\n",
       "std       1,980,614.1\n",
       "min               0.0\n",
       "25%         295,554.2\n",
       "50%         524,272.2\n",
       "75%         980,705.8\n",
       "max     119,113,552.0\n",
       "Name: balance, dtype: float64"
      ]
     },
     "execution_count": 18,
     "metadata": {},
     "output_type": "execute_result"
    }
   ],
   "source": [
    "data['balance'].describe()"
   ]
  },
  {
   "cell_type": "code",
   "execution_count": 19,
   "metadata": {},
   "outputs": [
    {
     "data": {
      "text/plain": [
       "(0.0, 4827443.494)"
      ]
     },
     "execution_count": 19,
     "metadata": {},
     "output_type": "execute_result"
    },
    {
     "data": {
      "image/png": "[encoded data removed]",
      "text/plain": [
       "<Figure size 432x288 with 1 Axes>"
      ]
     },
     "metadata": {
      "needs_background": "light"
     },
     "output_type": "display_data"
    }
   ],
   "source": [
    "data['balance'].hist(bins=150, color='green')\n",
    "plt.xlim(0,data['balance'].quantile(0.99))"
   ]
  },
  {
   "cell_type": "markdown",
   "metadata": {},
   "source": [
    "Минимальное значение 0, счет может быть открыт, денег на нем нет. Максимальное значение - 119 миллионов.\n",
    "Предположу, что у кого-то действительно могут лежать такие деньги на счете (вип-клиенты банка, например).\n",
    "Из гистограммы видно, что у большинства клиентов на счету денег до 1 миллиона, 99% клиентов хранят суммы до 5 миллиона, остальной 1% - больше 5 миллионов."
   ]
  },
  {
   "cell_type": "code",
   "execution_count": 20,
   "metadata": {},
   "outputs": [
    {
     "data": {
      "text/plain": [
       "count      10,000.0\n",
       "mean      147,866.9\n",
       "std       139,388.5\n",
       "min         2,546.3\n",
       "25%        75,251.9\n",
       "50%       119,658.1\n",
       "75%       174,500.5\n",
       "max     1,395,064.4\n",
       "Name: est_salary, dtype: float64"
      ]
     },
     "execution_count": 20,
     "metadata": {},
     "output_type": "execute_result"
    }
   ],
   "source": [
    "data['est_salary'].describe()"
   ]
  },
  {
   "cell_type": "code",
   "execution_count": 21,
   "metadata": {},
   "outputs": [
    {
     "data": {
      "text/plain": [
       "(0.0, 887903.8546000007)"
      ]
     },
     "execution_count": 21,
     "metadata": {},
     "output_type": "execute_result"
    },
    {
     "data": {
      "image/png": "[encoded data removed]",
      "text/plain": [
       "<Figure size 432x288 with 1 Axes>"
      ]
     },
     "metadata": {
      "needs_background": "light"
     },
     "output_type": "display_data"
    }
   ],
   "source": [
    "data['est_salary'].hist(bins=100, color='green')\n",
    "plt.xlim(0,data['est_salary'].quantile(0.99))"
   ]
  },
  {
   "cell_type": "markdown",
   "metadata": {},
   "source": [
    "Минимальное значение - 2546 ниже прожиточного минимума, но такое вполне возможно (работа не на полную ставку), поэтому оставляем.\n",
    "\n",
    "Максимальное значение - 1 395 064 тоже кажется вполне возможным (помимо работы, у клиента могут быть дополнительные поступления, которые банк оценил как заработную плату, или, например, клиент может иметь высокодоходный бизнес и т.д.)"
   ]
  },
  {
   "cell_type": "markdown",
   "metadata": {},
   "source": [
    "В ходе предобработки данных:\n",
    "\n",
    "1) изучены явные и неявные дубликаты;\n",
    "\n",
    "2) проанализированы пропуски в датасете;\n",
    "\n",
    "3) названия столбцов приведены к нижнему регистру;\n",
    "\n",
    "4) изменен тип данных в столбцах credit_card, last_activity, churn;\n",
    "\n",
    "5) проверены числовые значения на аномалии."
   ]
  },
  {
   "cell_type": "markdown",
   "metadata": {},
   "source": [
    "## Шаг 3. Исследовательский анализ данных"
   ]
  },
  {
   "cell_type": "markdown",
   "metadata": {},
   "source": [
    "Сначала построим корреляционную матрицу и посмотрим, есть ли у каких-либо показателей зависимость."
   ]
  },
  {
   "cell_type": "code",
   "execution_count": 22,
   "metadata": {},
   "outputs": [],
   "source": [
    "data['userid'] = data['userid'].astype('str')"
   ]
  },
  {
   "cell_type": "code",
   "execution_count": 23,
   "metadata": {},
   "outputs": [
    {
     "data": {
      "image/png": "[encoded data removed]",
      "text/plain": [
       "<Figure size 720x576 with 2 Axes>"
      ]
     },
     "metadata": {
      "needs_background": "light"
     },
     "output_type": "display_data"
    }
   ],
   "source": [
    "num_col = data.select_dtypes(include=['float64', 'int64']).columns\n",
    "\n",
    "correlation_matrix = data[num_col].corr()\n",
    "\n",
    "\n",
    "plt.figure(figsize=(10, 8))\n",
    "sns.heatmap(correlation_matrix, annot=True, cmap='rocket', fmt='.3f', linewidths=0.5)\n",
    "plt.title('Матрица корреляции')\n",
    "plt.show()"
   ]
  },
  {
   "cell_type": "markdown",
   "metadata": {},
   "source": [
    "Из всех показтелей можно выделить только небольшую зависимость между продуктами банка и баллами собственности, а также между балансом на счете и оценочной заработной платой."
   ]
  },
  {
   "cell_type": "markdown",
   "metadata": {},
   "source": [
    "Далле для отточных и оставшихся клиентов построим гистограммы распределения плотности вероятности по ряду показателей."
   ]
  },
  {
   "cell_type": "markdown",
   "metadata": {},
   "source": [
    "1) Распределение баллов скоринга среди оставшихся и отточных клиентов."
   ]
  },
  {
   "cell_type": "code",
   "execution_count": 24,
   "metadata": {},
   "outputs": [
    {
     "data": {
      "text/plain": [
       "Text(0.5, 1.0, 'Распределение баллов скоринга среди отточных и оставшихся клиентов')"
      ]
     },
     "execution_count": 24,
     "metadata": {},
     "output_type": "execute_result"
    },
    {
     "data": {
      "image/png": "[encoded data removed]",
      "text/plain": [
       "<Figure size 720x432 with 1 Axes>"
      ]
     },
     "metadata": {
      "needs_background": "light"
     },
     "output_type": "display_data"
    }
   ],
   "source": [
    "plt.figure(figsize=(10, 6))\n",
    "sns.histplot(data=data, hue='churn', x='score',\n",
    "stat='density', common_norm=False, palette='flag')\n",
    "plt.xlabel('Баллы скоринга')\n",
    "plt.ylabel('Вероятность')\n",
    "plt.title('Распределение баллов скоринга среди отточных и оставшихся клиентов')"
   ]
  },
  {
   "cell_type": "markdown",
   "metadata": {},
   "source": [
    "Отточность наблюдается среди клиентов с баллами в интервале от 830 до 910 баллов. Особенно высоко у клиентов с 870 баллами, что любопытно, так как это достаточно высокие баллы (а вот у клиентов с маленькими баллами, наоборот, не наблюдается отточности)."
   ]
  },
  {
   "cell_type": "markdown",
   "metadata": {},
   "source": [
    "2) Распределение отточных и оставшихся клиентов по городам."
   ]
  },
  {
   "cell_type": "code",
   "execution_count": 25,
   "metadata": {},
   "outputs": [
    {
     "data": {
      "text/plain": [
       "Text(0.5, 1.0, 'Распределение отточных и оставшихся клиентов по городам')"
      ]
     },
     "execution_count": 25,
     "metadata": {},
     "output_type": "execute_result"
    },
    {
     "data": {
      "image/png": "[encoded data removed]",
      "text/plain": [
       "<Figure size 720x432 with 1 Axes>"
      ]
     },
     "metadata": {
      "needs_background": "light"
     },
     "output_type": "display_data"
    }
   ],
   "source": [
    "plt.figure(figsize=(10, 6))\n",
    "sns.histplot(data=data, hue='churn', x='city',\n",
    "stat='density', common_norm=False, palette='flag', discrete=True)\n",
    "plt.xlabel('Город')\n",
    "plt.ylabel('Вероятность')\n",
    "plt.title('Распределение отточных и оставшихся клиентов по городам')"
   ]
  },
  {
   "cell_type": "markdown",
   "metadata": {},
   "source": [
    "Высокая вероятность оттока наблюдается среди клиентов из Ярославля, немного - из Ростова."
   ]
  },
  {
   "cell_type": "markdown",
   "metadata": {},
   "source": [
    "3) Распределение отточных и оставшихся клиентов по полу."
   ]
  },
  {
   "cell_type": "code",
   "execution_count": 26,
   "metadata": {},
   "outputs": [
    {
     "data": {
      "text/plain": [
       "Text(0.5, 1.0, 'Распределение отточных и оставшихся клиентов по полу')"
      ]
     },
     "execution_count": 26,
     "metadata": {},
     "output_type": "execute_result"
    },
    {
     "data": {
      "image/png": "[encoded data removed]",
      "text/plain": [
       "<Figure size 720x432 with 1 Axes>"
      ]
     },
     "metadata": {
      "needs_background": "light"
     },
     "output_type": "display_data"
    }
   ],
   "source": [
    "plt.figure(figsize=(10, 6))\n",
    "sns.histplot(data=data, hue='churn', x='gender',\n",
    "stat='density', common_norm=False, palette='flag', discrete=True)\n",
    "plt.xlabel('Пол')\n",
    "plt.ylabel('Вероятность')\n",
    "plt.title('Распределение отточных и оставшихся клиентов по полу')"
   ]
  },
  {
   "cell_type": "markdown",
   "metadata": {},
   "source": [
    "Большая вероятность оттока наблюдается среди клиентов мужчин."
   ]
  },
  {
   "cell_type": "markdown",
   "metadata": {},
   "source": [
    "4) Распределение отточных и оставшихся клиентов по возрасту."
   ]
  },
  {
   "cell_type": "code",
   "execution_count": 27,
   "metadata": {},
   "outputs": [
    {
     "data": {
      "text/plain": [
       "Text(0.5, 1.0, 'Распределение отточных и оставшихся клиентов по возрасту')"
      ]
     },
     "execution_count": 27,
     "metadata": {},
     "output_type": "execute_result"
    },
    {
     "data": {
      "image/png": "[encoded data removed]",
      "text/plain": [
       "<Figure size 720x432 with 1 Axes>"
      ]
     },
     "metadata": {
      "needs_background": "light"
     },
     "output_type": "display_data"
    }
   ],
   "source": [
    "plt.figure(figsize=(10, 6))\n",
    "sns.histplot(data=data, hue='churn', x='age',\n",
    "stat='density', common_norm=False, palette='flag')\n",
    "plt.xlabel('Возраст')\n",
    "plt.ylabel('Вероятность')\n",
    "plt.title('Распределение отточных и оставшихся клиентов по возрасту')"
   ]
  },
  {
   "cell_type": "markdown",
   "metadata": {},
   "source": [
    "Самая большая вероятность оттока наблюдается среди клиентов в районе от 28 до 34 лет и от 50 до 60 лет."
   ]
  },
  {
   "cell_type": "markdown",
   "metadata": {},
   "source": [
    "5) Распределение баллов собственности среди отточных и оставшихся клиентов."
   ]
  },
  {
   "cell_type": "code",
   "execution_count": 28,
   "metadata": {},
   "outputs": [
    {
     "data": {
      "text/plain": [
       "Text(0.5, 1.0, 'Распределение отточных и оставшихся клиентов по баллам собственности')"
      ]
     },
     "execution_count": 28,
     "metadata": {},
     "output_type": "execute_result"
    },
    {
     "data": {
      "image/png": "[encoded data removed]",
      "text/plain": [
       "<Figure size 720x432 with 1 Axes>"
      ]
     },
     "metadata": {
      "needs_background": "light"
     },
     "output_type": "display_data"
    }
   ],
   "source": [
    "plt.figure(figsize=(10, 6))\n",
    "sns.histplot(data=data, hue='churn', x='equity',\n",
    "stat='density', common_norm=False, palette='flag', discrete=True)\n",
    "plt.xlabel('Баллы собственности')\n",
    "plt.ylabel('Вероятность')\n",
    "plt.title('Распределение отточных и оставшихся клиентов по баллам собственности')"
   ]
  },
  {
   "cell_type": "markdown",
   "metadata": {},
   "source": [
    "Отток наблюдается у клиентов с 3 и выше баллами собственности."
   ]
  },
  {
   "cell_type": "markdown",
   "metadata": {},
   "source": [
    "6) Распределение отточных и оставшихся клиентов по балансу."
   ]
  },
  {
   "cell_type": "code",
   "execution_count": 29,
   "metadata": {},
   "outputs": [
    {
     "data": {
      "text/plain": [
       "Text(0.5, 1.0, 'Распределение отточных и оставшихся клиентов по количеству денег на счете')"
      ]
     },
     "execution_count": 29,
     "metadata": {},
     "output_type": "execute_result"
    },
    {
     "data": {
      "image/png": "[encoded data removed]",
      "text/plain": [
       "<Figure size 720x432 with 1 Axes>"
      ]
     },
     "metadata": {
      "needs_background": "light"
     },
     "output_type": "display_data"
    }
   ],
   "source": [
    "plt.figure(figsize=(10, 6))\n",
    "sns.histplot(data=data, hue='churn', x='balance', bins=150,\n",
    "stat='density', common_norm=False, palette='flag')\n",
    "plt.xlabel('Баланс счета')\n",
    "plt.ylabel('Вероятность')\n",
    "plt.title('Распределение отточных и оставшихся клиентов по количеству денег на счете')"
   ]
  },
  {
   "cell_type": "markdown",
   "metadata": {},
   "source": [
    "У графика очень большой хвост, поэтому попробуем проанализировать основную часть, ограничив ось х 99-м перцентилем."
   ]
  },
  {
   "cell_type": "code",
   "execution_count": 30,
   "metadata": {},
   "outputs": [
    {
     "data": {
      "text/plain": [
       "Text(0.5, 1.0, 'Распределение отточных и оставшихся клиентов по количеству денег на счете')"
      ]
     },
     "execution_count": 30,
     "metadata": {},
     "output_type": "execute_result"
    },
    {
     "data": {
      "image/png": "[encoded data removed]",
      "text/plain": [
       "<Figure size 720x432 with 1 Axes>"
      ]
     },
     "metadata": {
      "needs_background": "light"
     },
     "output_type": "display_data"
    }
   ],
   "source": [
    "plt.figure(figsize=(10, 6))\n",
    "sns.histplot(data=data, hue='churn', x='balance', bins=150,\n",
    "stat='density', common_norm=False, palette='flag')\n",
    "\n",
    "plt.xlim(0, data['balance'].quantile(0.99))\n",
    "plt.xlabel('Баланс счета')\n",
    "plt.ylabel('Вероятность')\n",
    "plt.title('Распределение отточных и оставшихся клиентов по количеству денег на счете')"
   ]
  },
  {
   "cell_type": "markdown",
   "metadata": {},
   "source": [
    "Вероятность отток наблюдается среди клиентов с балансом от 1 миллиона и выше."
   ]
  },
  {
   "cell_type": "markdown",
   "metadata": {},
   "source": [
    "7) Распределение отточных и оставшихся клиентов по количеству продуктов."
   ]
  },
  {
   "cell_type": "code",
   "execution_count": 31,
   "metadata": {},
   "outputs": [
    {
     "data": {
      "text/plain": [
       "Text(0.5, 1.0, 'Распределение отточных и оставшихся клиентов по количеству продуктов')"
      ]
     },
     "execution_count": 31,
     "metadata": {},
     "output_type": "execute_result"
    },
    {
     "data": {
      "image/png": "[encoded data removed]",
      "text/plain": [
       "<Figure size 720x432 with 1 Axes>"
      ]
     },
     "metadata": {
      "needs_background": "light"
     },
     "output_type": "display_data"
    }
   ],
   "source": [
    "plt.figure(figsize=(10, 6))\n",
    "sns.histplot(data=data, hue='churn', x='products',\n",
    "stat='density', common_norm=False, palette='flag', discrete=True)\n",
    "plt.xlabel('Количество продуктов банка у клиента')\n",
    "plt.ylabel('Вероятность')\n",
    "plt.title('Распределение отточных и оставшихся клиентов по количеству продуктов')"
   ]
  },
  {
   "cell_type": "markdown",
   "metadata": {},
   "source": [
    "Отток наблюдается у клиентов с 2-4 продуктами банка."
   ]
  },
  {
   "cell_type": "markdown",
   "metadata": {},
   "source": [
    "8) Распределение отточных и оставшихся клиентов по наличию или отсутствию кредитной карты."
   ]
  },
  {
   "cell_type": "code",
   "execution_count": 32,
   "metadata": {},
   "outputs": [],
   "source": [
    "data['credit_card'] = data['credit_card'].astype('str')"
   ]
  },
  {
   "cell_type": "code",
   "execution_count": 33,
   "metadata": {},
   "outputs": [
    {
     "data": {
      "text/plain": [
       "Text(0.5, 1.0, 'Распределение отточных и оставшихся клиентов по наличию или отсутствию кредитной карты')"
      ]
     },
     "execution_count": 33,
     "metadata": {},
     "output_type": "execute_result"
    },
    {
     "data": {
      "image/png": "[encoded data removed]",
      "text/plain": [
       "<Figure size 720x432 with 1 Axes>"
      ]
     },
     "metadata": {
      "needs_background": "light"
     },
     "output_type": "display_data"
    }
   ],
   "source": [
    "plt.figure(figsize=(10, 6))\n",
    "sns.histplot(data=data, hue='churn', x='credit_card',\n",
    "stat='density', common_norm=False, palette='flag', discrete=False)\n",
    "plt.xlabel('Наличие/Отсуствие кредитной карты')\n",
    "plt.ylabel('Вероятность')\n",
    "plt.title('Распределение отточных и оставшихся клиентов по наличию или отсутствию кредитной карты')"
   ]
  },
  {
   "cell_type": "markdown",
   "metadata": {},
   "source": [
    "Вероятность оттока наблюдается у клиентов без кредитной карты."
   ]
  },
  {
   "cell_type": "markdown",
   "metadata": {},
   "source": [
    "9) Распределение отточных и оставшихся клиентов по наличию или отсутствию последней активности."
   ]
  },
  {
   "cell_type": "code",
   "execution_count": 34,
   "metadata": {},
   "outputs": [],
   "source": [
    "data['last_activity'] = data['last_activity'].astype('str')"
   ]
  },
  {
   "cell_type": "code",
   "execution_count": 35,
   "metadata": {},
   "outputs": [
    {
     "data": {
      "text/plain": [
       "Text(0.5, 1.0, 'Распределение отточных и оставшихся клиентов по наличию или отсутствию последней активности')"
      ]
     },
     "execution_count": 35,
     "metadata": {},
     "output_type": "execute_result"
    },
    {
     "data": {
      "image/png": "[encoded data removed]",
      "text/plain": [
       "<Figure size 720x432 with 1 Axes>"
      ]
     },
     "metadata": {
      "needs_background": "light"
     },
     "output_type": "display_data"
    }
   ],
   "source": [
    "plt.figure(figsize=(10, 6))\n",
    "sns.histplot(data=data, hue='churn', x='last_activity',\n",
    "stat='density', common_norm=False, palette='flag', discrete=False)\n",
    "plt.xlabel('Наличие/Отсуствие последней активности')\n",
    "plt.ylabel('Вероятность')\n",
    "plt.title('Распределение отточных и оставшихся клиентов по наличию или отсутствию последней активности')"
   ]
  },
  {
   "cell_type": "markdown",
   "metadata": {},
   "source": [
    "Высокая вероятность оттока среди клиентов, у которых была в последнее время какая-либо активность в банке."
   ]
  },
  {
   "cell_type": "markdown",
   "metadata": {},
   "source": [
    "10) Распределение отточных и оставшихся клиентов по оценочному доходу."
   ]
  },
  {
   "cell_type": "code",
   "execution_count": 36,
   "metadata": {},
   "outputs": [
    {
     "data": {
      "text/plain": [
       "Text(0.5, 1.0, 'Распределение отточных и оставшихся клиентов по оценочной зарплате')"
      ]
     },
     "execution_count": 36,
     "metadata": {},
     "output_type": "execute_result"
    },
    {
     "data": {
      "image/png": "[encoded data removed]",
      "text/plain": [
       "<Figure size 720x432 with 1 Axes>"
      ]
     },
     "metadata": {
      "needs_background": "light"
     },
     "output_type": "display_data"
    }
   ],
   "source": [
    "plt.figure(figsize=(10, 6))\n",
    "sns.histplot(data=data, hue='churn', x='est_salary',\n",
    "stat='density', common_norm=False, palette='flag')\n",
    "plt.xlabel('Оценочная зарплата')\n",
    "plt.ylabel('Вероятность')\n",
    "plt.title('Распределение отточных и оставшихся клиентов по оценочной зарплате')"
   ]
  },
  {
   "cell_type": "markdown",
   "metadata": {},
   "source": [
    "У графика длинный хвост, попробуем проанализировать график, ограничив ось x 99-м перцентилем."
   ]
  },
  {
   "cell_type": "code",
   "execution_count": 37,
   "metadata": {},
   "outputs": [
    {
     "data": {
      "text/plain": [
       "Text(0.5, 1.0, 'Распределение отточных и оставшихся клиентов по оценочной зарплате')"
      ]
     },
     "execution_count": 37,
     "metadata": {},
     "output_type": "execute_result"
    },
    {
     "data": {
      "image/png": "[encoded data removed]",
      "text/plain": [
       "<Figure size 720x432 with 1 Axes>"
      ]
     },
     "metadata": {
      "needs_background": "light"
     },
     "output_type": "display_data"
    }
   ],
   "source": [
    "plt.figure(figsize=(10, 6))\n",
    "sns.histplot(data=data, hue='churn', x='est_salary',\n",
    "stat='density', common_norm=False, palette='flag')\n",
    "plt.xlim(0,data['est_salary'].quantile(0.99))\n",
    "plt.xlabel('Оценочная зарплата')\n",
    "plt.ylabel('Вероятность')\n",
    "plt.title('Распределение отточных и оставшихся клиентов по оценочной зарплате')"
   ]
  },
  {
   "cell_type": "markdown",
   "metadata": {},
   "source": [
    "Отточность у клиентов с зарплатой в интервале от 100 000 до 150 000, от 170 000 до 210000"
   ]
  },
  {
   "cell_type": "markdown",
   "metadata": {},
   "source": [
    "Сравнив отточных и оставшихся клиентов по ряду признаков, можно сделать вывод, что наибольшая вероятность оттока наблюдается у:\n",
    "\n",
    "1) мужчин; \n",
    "\n",
    "2) в возрасте 28-34 и 50-60 лет; \n",
    "\n",
    "3) из города - Ярославль; \n",
    "\n",
    "4) с баллами скоринга в районе 830 – 910; \n",
    "\n",
    "5) с 3-5 баллами собственности; \n",
    "\n",
    "6) 2-мя и более продуктами банка; \n",
    "\n",
    "7) с балансом на счете больше 1 миллиона; \n",
    "\n",
    "8) без кредитной карты; \n",
    "\n",
    "9) с фиксированной последней активностью; \n",
    "\n",
    "10) оценочной заработной платой от 100 000 до 150 000 и от 170 000 до 210 000."
   ]
  },
  {
   "cell_type": "markdown",
   "metadata": {},
   "source": [
    "## Шаг 4. Сегментация."
   ]
  },
  {
   "cell_type": "markdown",
   "metadata": {},
   "source": [
    "На этом шаге нужно выделить несколько наиболее высокоотточных сегемнтов и дать по ним рекомендации.\n",
    "Высокоотточность предполагает, что у таких сегментов процент оттока будет выше, чем средний отток по банку."
   ]
  },
  {
   "cell_type": "code",
   "execution_count": 38,
   "metadata": {},
   "outputs": [
    {
     "data": {
      "text/plain": [
       "'Средний отток по банку в процентах: 18.2'"
      ]
     },
     "execution_count": 38,
     "metadata": {},
     "output_type": "execute_result"
    }
   ],
   "source": [
    "f\"Средний отток по банку в процентах: {data['churn'].mean()*100}\""
   ]
  },
  {
   "cell_type": "code",
   "execution_count": 39,
   "metadata": {},
   "outputs": [
    {
     "name": "stdout",
     "output_type": "stream",
     "text": [
      "Сегмент seg1: размер 1575\n",
      "Сегмент seg1: процент оттока 28.8%\n",
      "Сегмент seg2: размер 1798\n",
      "Сегмент seg2: процент оттока 30.5%\n",
      "Сегмент seg3: размер 1024\n",
      "Сегмент seg3: процент оттока 31.5%\n",
      "Сегмент seg4: размер 1218\n",
      "Сегмент seg4: процент оттока 22.5%\n",
      "Сегмент seg5: размер 1041\n",
      "Сегмент seg5: процент оттока 31.3%\n",
      "Сегмент seg6: размер 2038\n",
      "Сегмент seg7: размер 1624\n",
      "Сегмент seg7: процент оттока 26.8%\n",
      "Сегмент seg8: размер 1068\n",
      "Сегмент seg8: процент оттока 35.5%\n",
      "Сегмент seg9: размер 1506\n",
      "Сегмент seg9: процент оттока 30.6%\n",
      "Сегмент seg10: размер 1624\n",
      "Сегмент seg10: процент оттока 26.8%\n",
      "Сегмент seg11: размер 1535\n",
      "Сегмент seg11: процент оттока 30.4%\n",
      "  segment  size  churn_rate\n",
      "0    seg1  1575        28.8\n",
      "1    seg2  1798        30.5\n",
      "2    seg3  1024        31.5\n",
      "3    seg4  1218        22.5\n",
      "4    seg5  1041        31.3\n",
      "5    seg7  1624        26.8\n",
      "6    seg8  1068        35.5\n",
      "7    seg9  1506        30.6\n",
      "8   seg10  1624        26.8\n",
      "9   seg11  1535        30.4\n"
     ]
    }
   ],
   "source": [
    "def seg_analysis(data):\n",
    "    \n",
    "    churn_mean = data['churn'].mean() * 100\n",
    "\n",
    "    \n",
    "    segments = {\n",
    "        \"seg1\": data.query('gender == \"М\" and city == \"Ярославль\" and age >= 28 and age<=34 or\\\n",
    "         age >= 50 and age <=60 and score >= 830 and score<=910'),\n",
    "        \"seg2\": data.query('gender == \"М\" and city == \"Ярославль\" and age >= 28 and age <=34 or\\\n",
    "        age >= 50 and age <=60 and equity >= 3 and equity <= 5'),\n",
    "        \"seg3\": data.query('gender == \"М\" and city == \"Ярославль\" and age >= 28 and age<=34 or\\\n",
    "        age >= 50 and age <=60 and score >= 830 and score<=910 and credit_card == \"False\" and last_activity==\"True\"'),\n",
    "        \"seg4\": data.query('gender == \"М\" and city == \"Ярославль\" and age >= 28 and age<=34 and\\\n",
    "        score >= 830 and score<=910 and est_salary >= 100000 and est_salary <= 150000 or est_salary >=170000 and est_salary<=210000'),\n",
    "        \"seg5\": data.query('gender == \"М\" and city == \"Ярославль\" and age >= 28 and age<=34 or\\\n",
    "        age>=50 and age<=60 and score >= 830 and score<=910 and balance >= 1000000'),\n",
    "        \"seg6\": data.query('gender == \"М\" and city == \"Ярославль\" and age >= 28 and age<=34 or\\\n",
    "        age>=50 and age<=60 and score >= 830 and score<=910 and products >= 2 and est_salary >= 100000 and\\\n",
    "        est_salary <= 150000 or est_salary >=170000 and est_salary<=210000'),\n",
    "        \"seg7\": data.query('city == \"Ярославль\" and products >=2 and products <=5 and\\\n",
    "        last_activity == \"True\" and est_salary >= 100000 and est_salary <= 150000 or est_salary >=170000 and est_salary<=210000'),\n",
    "        \"seg8\": data.query('city == \"Ярославль\" and equity >= 3 and equity <= 5 and credit_card == \"False\"'),\n",
    "        \"seg9\": data.query('gender == \"М\" and age >= 28 and age<=34 or\\\n",
    "         age >= 50 and age <=60 and balance > 1000000 and last_activity == \"True\"'),\n",
    "        \"seg10\": data.query('city == \"Ярославль\" and products >= 2 and products<=5 and last_activity == \"True\" and\\\n",
    "        est_salary >= 100000 and est_salary <= 150000 or est_salary >= 170000 and est_salary<=210000'),\n",
    "        \"seg11\": data.query('gender == \"М\" and est_salary >= 100000 and\\\n",
    "        est_salary <= 150000 or est_salary >= 170000 and est_salary<=210000 and balance >= 1000000'),\n",
    "        \n",
    "        \n",
    "    }\n",
    "\n",
    "  \n",
    "    result = []\n",
    "\n",
    "    for segment_name, segment_data in segments.items():\n",
    "        segment_size = len(segment_data)\n",
    "\n",
    "       \n",
    "        print(f\"Сегмент {segment_name}: размер {segment_size}\")\n",
    "\n",
    "        \n",
    "        if 500 <= segment_size <= 2000:\n",
    "            segment_churn = segment_data['churn'].mean() * 100\n",
    "\n",
    "           \n",
    "            print(f\"Сегмент {segment_name}: процент оттока {segment_churn:.1f}%\")\n",
    "\n",
    "            \n",
    "            if segment_churn > churn_mean:\n",
    "                result.append({\n",
    "                    'segment': segment_name,\n",
    "                    'size': segment_size,\n",
    "                    'churn_rate': segment_churn\n",
    "                })\n",
    "\n",
    "    \n",
    "    return pd.DataFrame(result)\n",
    "\n",
    "\n",
    "result = seg_analysis(data)\n",
    "print(result)"
   ]
  },
  {
   "cell_type": "markdown",
   "metadata": {},
   "source": [
    "Можно выделить несколько наиболее высокоотточных клиентов:\n",
    "\n",
    "1) Клиенты из Ярославля с собственностью, не пользующиеся кредитной картой.\n",
    "\n",
    "2) Мужчины из Ярославля в возрасте от 28 до 34 или от 50 до 60 лет с высокими баллами скоринга без кредитной карты с зафиксированной активностью в последнее время.\n",
    "\n",
    "3) Мужчины из Ярославля в возрасте от 28 до 34 и 50 до 60 лет с высокими баллами скоринга и балансом счета более 1 миллиона.\n",
    "\n",
    "4) Активные клиенты из Ярославля, пользующиеся несколькими продуктами банка (от 3 до 5) и с высоким уровнем заработной платы (от 100 000 до 150 000 или от 170 000 до 210 000)\n",
    "\n"
   ]
  },
  {
   "cell_type": "markdown",
   "metadata": {},
   "source": [
    "Рекомендация для сегментов:\n",
    "\n",
    "1. Клиенты из Ярославля с собственностью, не пользующиеся кредитной картой. Клиенты уходят именно из Ярославля, что может быть связано с несколькими причинами: неудобным расположением, низким качеством обслуживания, частыми техническими проблемами. Отсутствие кредитной карты может быть связано с невыгодными условиями по кредитки - возможно, стоит их пересмотреть. Наличие собственности может свидетельствовать о кредитоспособности клиенты (в случае кредита собственность может стать залогом), а это в свою очередь может говорить о невыгодных условиях кредитования.\n",
    "\n",
    "2. Мужчины из Ярославля в возрасте от 28 до 34 или от 50 до 60 лет с высокими баллами скоринга без кредитной карты с зафиксированной активностью в последнее время.  Считается, что финансовые привычки мужчин и женщин отличаются, и мужчины более склонны рисковать и пробывать новые финансовые продукты, а также вкладывать деньги в выссокорискованные инвестиции. Возможно, это просто стереотип, однако банку стоит обратить внимание на то, что уход мужчин от них вероятнее, чем женщин. Уход наблюдается среди людей молодого возраста (от 28 до 34) и предпенсионного возраста (50-60 лет). Это либо люди со стабильной заработной платой, которые хотят, чтобы их деньги работали, поэтому либо ищут привлекательные условия по вкладам либо ищут более выгодные условия по кредиту, либо люди с накоплениями, которые ищут выгодные условия для вложения. Высокий уровень банковского скоринга, т.е. у таких клиентов хорошая кредитная история. Такие клиенты могут уходить из-за более выгодных предложений по кредиту и другим продуктам у конкурентам. Возможно, у конкурентов есть также дополнительные бонусы и скидки, что тоже может послужить причиной ухода. Насчет города - см. рекомендации по 1-му сегменту.\n",
    "\n",
    "3. Мужчины из Ярославля в возрасте от 28 до 34 и 50 до 60 лет с высокими баллами скоринга и балансом счета более 1 миллиона. Тут рекомендации пересекаются с рекомендациями по 2-му сегменту. Стоит добавить про баланс на счете. Баланс на счете более 1000 000 рублей, значительные суммы, которые при правильном использовании могут приносить хорошие проценты. Возможно, конкуренты предлагают более привлекательные условия по вкладам, поэтому клиенты уходят.\n",
    "\n",
    "4. Активные клиенты из Ярославля, пользующиеся несколькими продуктами банка (от 2 до 4) и с высоким уровнем заработной платы (от 100 000 до 150 000 или от 170 000 до 210 000. Клиенты пользуются продуктами банка (при чем несколькими), но все равно уходят. Стоит обратить внимания на условия конкурентов по основным продуктам, возможно, условия привлекательнее, поэтому клиенты уходят. Здесь также уходят клиенты с высоким уровнем зарплаты: есть свободые деньги, которые можно положить на счет или взять кредит и внести первый платеж. Стоит обратить внимание на условия кредитования и условия по вкладам. Насчет город - см. рекомендации по 1-му сегменту.\n"
   ]
  },
  {
   "cell_type": "markdown",
   "metadata": {},
   "source": [
    "## Шаг 5. Статистический анализ."
   ]
  },
  {
   "cell_type": "markdown",
   "metadata": {},
   "source": [
    "1) Проверьте гипотезу различия дохода между теми клиентами, которые ушли и теми, которые остались.\n",
    "\n",
    "**H0**: Средняя зарплата клиентов, которые ушли, и клиентов, которые остались, не отличается.\n",
    "\n",
    "**H1**: Средняя зарплата клиентов, которые ушли, и клиентов, которые остались, отличается."
   ]
  },
  {
   "cell_type": "markdown",
   "metadata": {},
   "source": [
    "Сначала нужно проверить данные на нормальное распределение."
   ]
  },
  {
   "cell_type": "code",
   "execution_count": 40,
   "metadata": {},
   "outputs": [
    {
     "name": "stdout",
     "output_type": "stream",
     "text": [
      "p-value:  0.0\n",
      "Отвергаем нулевую гипотезу: распределение не нормально\n",
      "p-value:  0.0\n",
      "Отвергаем нулевую гипотезу: распределение не нормально\n"
     ]
    },
    {
     "name": "stderr",
     "output_type": "stream",
     "text": [
      "/opt/conda/lib/python3.9/site-packages/scipy/stats/_morestats.py:1800: UserWarning: p-value may not be accurate for N > 5000.\n",
      "  warnings.warn(\"p-value may not be accurate for N > 5000.\")\n"
     ]
    }
   ],
   "source": [
    "group_True = data.query(\"churn == True\")[\"est_salary\"]\n",
    "group_False = data.query(\"churn == False\")[\"est_salary\"]\n",
    "\n",
    "alpha = 0.01  \n",
    "\n",
    "results = st.shapiro(group_True)\n",
    "p_value = results[1]  \n",
    "\n",
    "print('p-value: ', p_value)\n",
    "\n",
    "if p_value < alpha:\n",
    "    print('Отвергаем нулевую гипотезу: распределение не нормально')\n",
    "else:\n",
    "    print('Не получилось отвергнуть нулевую гипотезу, распределение нормально') \n",
    "\n",
    "results2 = st.shapiro(group_False)\n",
    "p_value = results[1] \n",
    "print('p-value: ', p_value)\n",
    "\n",
    "if p_value < alpha:\n",
    "    print('Отвергаем нулевую гипотезу: распределение не нормально')\n",
    "else:\n",
    "    print('Не получилось отвергнуть нулевую гипотезу, распределение нормально') "
   ]
  },
  {
   "cell_type": "markdown",
   "metadata": {},
   "source": [
    "Ненормально распределение, поэтому применяем тест Манна Уитни."
   ]
  },
  {
   "cell_type": "code",
   "execution_count": 41,
   "metadata": {},
   "outputs": [
    {
     "name": "stdout",
     "output_type": "stream",
     "text": [
      "p-value: 0.000243559272811695\n",
      "Отклоняем нулевую гипотезу. Существует статистически значимая разница в средней зарплате оставшихся и ушедших клиентов.\n"
     ]
    }
   ],
   "source": [
    "stat, p_value = st.mannwhitneyu(group_True.dropna(), group_False.dropna())\n",
    "print(f'p-value: {p_value}')\n",
    "if p_value < 0.01:\n",
    "    print(\"Отклоняем нулевую гипотезу. Существует статистически значимая разница в средней зарплате оставшихся и ушедших клиентов.\")\n",
    "else:\n",
    "    print(\"Не отклоняем нулевую гипотезу. Между зарплату ушедших и оставшихся клиентов нет статистически значимой разницы.\")"
   ]
  },
  {
   "cell_type": "markdown",
   "metadata": {},
   "source": [
    "2) Проверьте гипотезу различия баланса счета между теми клиентами, которые ушли и теми, которые остались."
   ]
  },
  {
   "cell_type": "markdown",
   "metadata": {},
   "source": [
    "**H0:** Баланс счета клиентов, которые ушли, и клиентов, которые остались, не отличается.\n",
    "\n",
    "**H1:** Баланс счета клиентов, которые ушли, и клиентов, которые остались, отличается."
   ]
  },
  {
   "cell_type": "markdown",
   "metadata": {},
   "source": [
    "Сначала нужно проверить данные на нормальное распределение."
   ]
  },
  {
   "cell_type": "code",
   "execution_count": 42,
   "metadata": {},
   "outputs": [
    {
     "name": "stdout",
     "output_type": "stream",
     "text": [
      "p-value:  1.0\n",
      "Не получилось отвергнуть нулевую гипотезу, распределение нормально\n",
      "p-value:  1.0\n",
      "Не получилось отвергнуть нулевую гипотезу, распределение нормально\n"
     ]
    },
    {
     "name": "stderr",
     "output_type": "stream",
     "text": [
      "/opt/conda/lib/python3.9/site-packages/scipy/stats/_morestats.py:1800: UserWarning: p-value may not be accurate for N > 5000.\n",
      "  warnings.warn(\"p-value may not be accurate for N > 5000.\")\n"
     ]
    }
   ],
   "source": [
    "group_True = data.query(\"churn == True\")[\"balance\"]\n",
    "group_False = data.query(\"churn == False\")[\"balance\"]\n",
    "\n",
    "alpha = 0.01  \n",
    "\n",
    "results = st.shapiro(group_True)\n",
    "p_value = results[1] \n",
    "\n",
    "print('p-value: ', p_value)\n",
    "\n",
    "if p_value < alpha:\n",
    "    print('Отвергаем нулевую гипотезу: распределение не нормально')\n",
    "else:\n",
    "    print('Не получилось отвергнуть нулевую гипотезу, распределение нормально') \n",
    "\n",
    "results2 = st.shapiro(group_False)\n",
    "p_value = results[1] \n",
    "\n",
    "print('p-value: ', p_value)\n",
    "\n",
    "if p_value < alpha:\n",
    "    print('Отвергаем нулевую гипотезу: распределение не нормально')\n",
    "else:\n",
    "    print('Не получилось отвергнуть нулевую гипотезу, распределение нормально') "
   ]
  },
  {
   "cell_type": "markdown",
   "metadata": {},
   "source": [
    "Так как распределение нормально, применяем t-тест."
   ]
  },
  {
   "cell_type": "code",
   "execution_count": 43,
   "metadata": {},
   "outputs": [
    {
     "name": "stdout",
     "output_type": "stream",
     "text": [
      "p-значение:  5.2961006573922e-14\n",
      "Отвергаем нулевую гипотезу: баланс ушедших и оставшихся клиентов статистически различается.\n"
     ]
    }
   ],
   "source": [
    "p_value = ttest_ind(group_True.dropna(), group_False.dropna()).pvalue\n",
    "alpha = 0.01\n",
    "\n",
    "print('p-значение: ', p_value)\n",
    "if p_value < alpha:\n",
    "    print(\"Отвергаем нулевую гипотезу: баланс ушедших и оставшихся клиентов статистически различается.\")\n",
    "else:\n",
    "    print(\"Не отвергаем нулевую гипотезу: не существует статистически значимой разницы между балансом оставшихся и ушедших клиентов\")"
   ]
  },
  {
   "cell_type": "markdown",
   "metadata": {},
   "source": [
    "В результате анализа гипотез можно сделать следующие выводы:\n",
    "\n",
    "1) Существует статистическая разница в средней зарплате оставшихся и ушедших клиентов.\n",
    "\n",
    "2) Баланс ушедших и оставшихся клиентов статистически различается."
   ]
  },
  {
   "cell_type": "markdown",
   "metadata": {},
   "source": [
    "## Шаг 6. Презентация\n",
    "\n",
    "Ссылка на презентацию: https://disk.yandex.ru/i/K1I2Vrp20diJDA"
   ]
  },
  {
   "cell_type": "markdown",
   "metadata": {},
   "source": [
    "## Шаг 7. Общий вывод."
   ]
  },
  {
   "cell_type": "markdown",
   "metadata": {},
   "source": [
    "В результате анализа данных банка \"Метанпром\":\n",
    "\n",
    "1) Осуществлена предобработка данных: изучены явные и неявные дубликаты; проанализированы пропуски в датасете; названия столбцов приведены к нижнему регистру; изменен тип данных в столбцах credit_card, last_activity, churn; проверены числовые значения на аномалии.\n",
    "\n",
    "2) Проведен исследовательский анализ: проанализированы отточные и оставшиеся клиенты по ряду признаков. Наибольшая вероятность оттока наблюдается у: 1) мужчин; 2) в возрасте 28-34 и 50-60 лет; 3) из города - Ярославль; 4) с баллами скоринга в районе 830 – 910; 5) с 3-5 баллами собственности; 6) 2-мя и более продуктами банка; 7) с балансом на счете больше 1 миллиона; 8) без кредитной карты; 9) с фиксированной последней активностью; 10) оценочной заработной платой от 100 000 до 150 000 и от 170 000 до 210 000.\n",
    "\n",
    "3) Осуществлена сгементация и выделено 4 высокоотточных сегмента. Даны рекомедации по снижению оттока.\n",
    "\n",
    "4) Проведен статистический анализ, проанализировано 2 гипотезы. Существует статистическая разница в средней зарплате оставшихся и ушедших клиентов. Баланс ушедших и оставшихся клиентов статистически различается."
   ]
  }
 ],
 "metadata": {
  "ExecuteTimeLog": [
   {
    "duration": 1378,
    "start_time": "2025-01-26T14:09:31.555Z"
   },
   {
    "duration": 104,
    "start_time": "2025-01-26T14:10:26.790Z"
   },
   {
    "duration": 29,
    "start_time": "2025-01-26T14:10:36.493Z"
   },
   {
    "duration": 14,
    "start_time": "2025-01-26T14:10:43.963Z"
   },
   {
    "duration": 113,
    "start_time": "2025-01-26T14:13:55.808Z"
   },
   {
    "duration": 8,
    "start_time": "2025-01-26T14:15:04.432Z"
   },
   {
    "duration": 11,
    "start_time": "2025-01-26T14:15:25.102Z"
   },
   {
    "duration": 15,
    "start_time": "2025-01-26T14:16:35.234Z"
   },
   {
    "duration": 6,
    "start_time": "2025-01-26T14:17:05.393Z"
   },
   {
    "duration": 5,
    "start_time": "2025-01-26T14:17:35.963Z"
   },
   {
    "duration": 9,
    "start_time": "2025-01-26T14:20:47.762Z"
   },
   {
    "duration": 388,
    "start_time": "2025-01-26T14:20:54.108Z"
   },
   {
    "duration": 102,
    "start_time": "2025-01-26T14:22:37.492Z"
   },
   {
    "duration": 18,
    "start_time": "2025-01-26T14:22:48.457Z"
   },
   {
    "duration": 1282,
    "start_time": "2025-01-26T14:23:08.414Z"
   },
   {
    "duration": 85,
    "start_time": "2025-01-26T14:23:09.699Z"
   },
   {
    "duration": 25,
    "start_time": "2025-01-26T14:23:09.785Z"
   },
   {
    "duration": 17,
    "start_time": "2025-01-26T14:23:09.813Z"
   },
   {
    "duration": 10,
    "start_time": "2025-01-26T14:23:09.832Z"
   },
   {
    "duration": 50,
    "start_time": "2025-01-26T14:23:09.844Z"
   },
   {
    "duration": 12,
    "start_time": "2025-01-26T14:23:09.899Z"
   },
   {
    "duration": 6,
    "start_time": "2025-01-26T14:23:09.914Z"
   },
   {
    "duration": 11,
    "start_time": "2025-01-26T14:23:09.921Z"
   },
   {
    "duration": 4,
    "start_time": "2025-01-26T14:25:45.819Z"
   },
   {
    "duration": 113,
    "start_time": "2025-01-26T14:25:55.604Z"
   },
   {
    "duration": 6,
    "start_time": "2025-01-26T14:26:02.862Z"
   },
   {
    "duration": 1280,
    "start_time": "2025-01-26T14:27:35.423Z"
   },
   {
    "duration": 94,
    "start_time": "2025-01-26T14:27:36.705Z"
   },
   {
    "duration": 19,
    "start_time": "2025-01-26T14:27:36.802Z"
   },
   {
    "duration": 15,
    "start_time": "2025-01-26T14:27:36.824Z"
   },
   {
    "duration": 23,
    "start_time": "2025-01-26T14:27:36.841Z"
   },
   {
    "duration": 45,
    "start_time": "2025-01-26T14:27:36.866Z"
   },
   {
    "duration": 14,
    "start_time": "2025-01-26T14:27:36.913Z"
   },
   {
    "duration": 62,
    "start_time": "2025-01-26T14:27:36.929Z"
   },
   {
    "duration": 13,
    "start_time": "2025-01-26T14:27:36.993Z"
   },
   {
    "duration": 41,
    "start_time": "2025-01-26T14:27:37.009Z"
   },
   {
    "duration": 16,
    "start_time": "2025-01-26T14:27:37.052Z"
   },
   {
    "duration": 36,
    "start_time": "2025-01-26T14:27:37.070Z"
   },
   {
    "duration": 139,
    "start_time": "2025-01-26T14:27:48.194Z"
   },
   {
    "duration": 1217,
    "start_time": "2025-01-26T14:27:59.605Z"
   },
   {
    "duration": 134,
    "start_time": "2025-01-26T14:28:00.824Z"
   },
   {
    "duration": 18,
    "start_time": "2025-01-26T14:28:00.959Z"
   },
   {
    "duration": 89,
    "start_time": "2025-01-26T14:28:00.979Z"
   },
   {
    "duration": 9,
    "start_time": "2025-01-26T14:28:01.070Z"
   },
   {
    "duration": 12,
    "start_time": "2025-01-26T14:28:01.080Z"
   },
   {
    "duration": 16,
    "start_time": "2025-01-26T14:28:01.098Z"
   },
   {
    "duration": 5,
    "start_time": "2025-01-26T14:28:01.116Z"
   },
   {
    "duration": 10,
    "start_time": "2025-01-26T14:28:01.123Z"
   },
   {
    "duration": 17,
    "start_time": "2025-01-26T14:28:01.135Z"
   },
   {
    "duration": 33,
    "start_time": "2025-01-26T14:28:01.154Z"
   },
   {
    "duration": 13,
    "start_time": "2025-01-26T14:28:01.189Z"
   },
   {
    "duration": 166,
    "start_time": "2025-01-26T14:28:59.653Z"
   },
   {
    "duration": 10,
    "start_time": "2025-01-26T14:29:41.240Z"
   },
   {
    "duration": 127,
    "start_time": "2025-01-26T14:30:47.169Z"
   },
   {
    "duration": 12,
    "start_time": "2025-01-26T14:30:57.820Z"
   },
   {
    "duration": 10,
    "start_time": "2025-01-26T14:32:11.230Z"
   },
   {
    "duration": 6,
    "start_time": "2025-01-26T14:33:30.975Z"
   },
   {
    "duration": 6,
    "start_time": "2025-01-26T14:34:03.413Z"
   },
   {
    "duration": 7,
    "start_time": "2025-01-26T14:34:20.090Z"
   },
   {
    "duration": 90,
    "start_time": "2025-01-26T14:38:46.722Z"
   },
   {
    "duration": 9,
    "start_time": "2025-01-26T14:38:55.699Z"
   },
   {
    "duration": 11400,
    "start_time": "2025-01-26T14:42:31.103Z"
   },
   {
    "duration": 89,
    "start_time": "2025-01-26T14:44:47.707Z"
   },
   {
    "duration": 13,
    "start_time": "2025-01-26T14:44:58.823Z"
   },
   {
    "duration": 26,
    "start_time": "2025-01-26T14:45:06.495Z"
   },
   {
    "duration": 19,
    "start_time": "2025-01-26T14:45:13.690Z"
   },
   {
    "duration": 7980,
    "start_time": "2025-01-26T14:45:23.123Z"
   },
   {
    "duration": 8059,
    "start_time": "2025-01-26T14:46:48.389Z"
   },
   {
    "duration": 389,
    "start_time": "2025-01-26T14:47:10.056Z"
   },
   {
    "duration": 632,
    "start_time": "2025-01-26T14:47:22.328Z"
   },
   {
    "duration": 1003,
    "start_time": "2025-01-26T14:47:35.354Z"
   },
   {
    "duration": 9182,
    "start_time": "2025-01-26T14:47:43.669Z"
   },
   {
    "duration": 1252,
    "start_time": "2025-01-26T14:48:02.970Z"
   },
   {
    "duration": 1206,
    "start_time": "2025-01-26T14:48:58.335Z"
   },
   {
    "duration": 81,
    "start_time": "2025-01-26T14:48:59.543Z"
   },
   {
    "duration": 16,
    "start_time": "2025-01-26T14:48:59.626Z"
   },
   {
    "duration": 13,
    "start_time": "2025-01-26T14:48:59.643Z"
   },
   {
    "duration": 8,
    "start_time": "2025-01-26T14:48:59.658Z"
   },
   {
    "duration": 27,
    "start_time": "2025-01-26T14:48:59.668Z"
   },
   {
    "duration": 14,
    "start_time": "2025-01-26T14:48:59.697Z"
   },
   {
    "duration": 4,
    "start_time": "2025-01-26T14:48:59.713Z"
   },
   {
    "duration": 10,
    "start_time": "2025-01-26T14:48:59.719Z"
   },
   {
    "duration": 14,
    "start_time": "2025-01-26T14:48:59.730Z"
   },
   {
    "duration": 7,
    "start_time": "2025-01-26T14:48:59.746Z"
   },
   {
    "duration": 11,
    "start_time": "2025-01-26T14:48:59.754Z"
   },
   {
    "duration": 18,
    "start_time": "2025-01-26T14:48:59.787Z"
   },
   {
    "duration": 170,
    "start_time": "2025-01-26T14:48:59.808Z"
   },
   {
    "duration": 17,
    "start_time": "2025-01-26T14:48:59.979Z"
   },
   {
    "duration": 11,
    "start_time": "2025-01-26T14:48:59.999Z"
   },
   {
    "duration": 56,
    "start_time": "2025-01-26T14:49:00.012Z"
   },
   {
    "duration": 1012,
    "start_time": "2025-01-26T14:49:00.070Z"
   },
   {
    "duration": 0,
    "start_time": "2025-01-26T14:49:01.084Z"
   },
   {
    "duration": 1265,
    "start_time": "2025-01-26T14:50:04.274Z"
   },
   {
    "duration": 104,
    "start_time": "2025-01-26T14:50:05.541Z"
   },
   {
    "duration": 15,
    "start_time": "2025-01-26T14:50:05.647Z"
   },
   {
    "duration": 72,
    "start_time": "2025-01-26T14:50:05.664Z"
   },
   {
    "duration": 7,
    "start_time": "2025-01-26T14:50:05.738Z"
   },
   {
    "duration": 67,
    "start_time": "2025-01-26T14:50:05.747Z"
   },
   {
    "duration": 23,
    "start_time": "2025-01-26T14:50:05.816Z"
   },
   {
    "duration": 19,
    "start_time": "2025-01-26T14:50:05.842Z"
   },
   {
    "duration": 16,
    "start_time": "2025-01-26T14:50:05.863Z"
   },
   {
    "duration": 40,
    "start_time": "2025-01-26T14:50:05.880Z"
   },
   {
    "duration": 9,
    "start_time": "2025-01-26T14:50:05.922Z"
   },
   {
    "duration": 63,
    "start_time": "2025-01-26T14:50:05.933Z"
   },
   {
    "duration": 29,
    "start_time": "2025-01-26T14:50:05.998Z"
   },
   {
    "duration": 183,
    "start_time": "2025-01-26T14:50:06.030Z"
   },
   {
    "duration": 10,
    "start_time": "2025-01-26T14:50:06.214Z"
   },
   {
    "duration": 17,
    "start_time": "2025-01-26T14:50:06.226Z"
   },
   {
    "duration": 23,
    "start_time": "2025-01-26T14:50:06.244Z"
   },
   {
    "duration": 10802,
    "start_time": "2025-01-26T14:50:06.269Z"
   },
   {
    "duration": 1450,
    "start_time": "2025-01-26T14:50:17.073Z"
   },
   {
    "duration": 1298,
    "start_time": "2025-01-26T14:51:20.309Z"
   },
   {
    "duration": 1443,
    "start_time": "2025-01-26T14:51:38.051Z"
   },
   {
    "duration": 1473,
    "start_time": "2025-01-26T14:51:48.493Z"
   },
   {
    "duration": 1166,
    "start_time": "2025-01-26T14:52:20.210Z"
   },
   {
    "duration": 1575,
    "start_time": "2025-01-26T14:52:53.048Z"
   },
   {
    "duration": 1261,
    "start_time": "2025-01-26T14:53:12.066Z"
   },
   {
    "duration": 5,
    "start_time": "2025-01-26T14:58:19.385Z"
   },
   {
    "duration": 1495,
    "start_time": "2025-01-26T14:58:22.996Z"
   },
   {
    "duration": 14,
    "start_time": "2025-01-26T15:00:18.411Z"
   },
   {
    "duration": 1240,
    "start_time": "2025-01-26T15:01:09.323Z"
   },
   {
    "duration": 1632,
    "start_time": "2025-01-26T15:02:10.834Z"
   },
   {
    "duration": 790,
    "start_time": "2025-01-26T15:03:25.949Z"
   },
   {
    "duration": 743,
    "start_time": "2025-01-26T15:04:01.917Z"
   },
   {
    "duration": 745,
    "start_time": "2025-01-26T15:04:13.074Z"
   },
   {
    "duration": 1124,
    "start_time": "2025-01-26T15:04:31.431Z"
   },
   {
    "duration": 372,
    "start_time": "2025-01-26T15:05:26.167Z"
   },
   {
    "duration": 195,
    "start_time": "2025-01-26T15:06:18.431Z"
   },
   {
    "duration": 248,
    "start_time": "2025-01-26T15:06:39.879Z"
   },
   {
    "duration": 196,
    "start_time": "2025-01-26T15:07:20.901Z"
   },
   {
    "duration": 199,
    "start_time": "2025-01-26T15:07:49.581Z"
   },
   {
    "duration": 184,
    "start_time": "2025-01-26T15:08:16.829Z"
   },
   {
    "duration": 353,
    "start_time": "2025-01-26T15:08:54.069Z"
   },
   {
    "duration": 239,
    "start_time": "2025-01-26T15:10:02.767Z"
   },
   {
    "duration": 386,
    "start_time": "2025-01-26T15:10:54.727Z"
   },
   {
    "duration": 213,
    "start_time": "2025-01-26T15:11:12.392Z"
   },
   {
    "duration": 5,
    "start_time": "2025-01-26T15:20:46.548Z"
   },
   {
    "duration": 4,
    "start_time": "2025-01-26T15:21:19.646Z"
   },
   {
    "duration": 8,
    "start_time": "2025-01-26T15:21:23.298Z"
   },
   {
    "duration": 267,
    "start_time": "2025-01-26T15:21:42.242Z"
   },
   {
    "duration": 268,
    "start_time": "2025-01-26T15:21:57.537Z"
   },
   {
    "duration": 1381,
    "start_time": "2025-01-26T15:22:19.641Z"
   },
   {
    "duration": 113,
    "start_time": "2025-01-26T15:22:21.024Z"
   },
   {
    "duration": 18,
    "start_time": "2025-01-26T15:22:21.139Z"
   },
   {
    "duration": 48,
    "start_time": "2025-01-26T15:22:21.159Z"
   },
   {
    "duration": 45,
    "start_time": "2025-01-26T15:22:21.210Z"
   },
   {
    "duration": 11,
    "start_time": "2025-01-26T15:22:21.257Z"
   },
   {
    "duration": 12,
    "start_time": "2025-01-26T15:22:21.269Z"
   },
   {
    "duration": 6,
    "start_time": "2025-01-26T15:22:21.283Z"
   },
   {
    "duration": 17,
    "start_time": "2025-01-26T15:22:21.290Z"
   },
   {
    "duration": 33,
    "start_time": "2025-01-26T15:22:21.309Z"
   },
   {
    "duration": 4,
    "start_time": "2025-01-26T15:22:21.345Z"
   },
   {
    "duration": 24,
    "start_time": "2025-01-26T15:22:21.350Z"
   },
   {
    "duration": 11,
    "start_time": "2025-01-26T15:22:21.376Z"
   },
   {
    "duration": 104,
    "start_time": "2025-01-26T15:22:21.390Z"
   },
   {
    "duration": 177,
    "start_time": "2025-01-26T15:22:21.500Z"
   },
   {
    "duration": 20,
    "start_time": "2025-01-26T15:22:21.679Z"
   },
   {
    "duration": 18,
    "start_time": "2025-01-26T15:22:21.701Z"
   },
   {
    "duration": 8,
    "start_time": "2025-01-26T15:22:21.721Z"
   },
   {
    "duration": 10709,
    "start_time": "2025-01-26T15:22:21.730Z"
   },
   {
    "duration": 1522,
    "start_time": "2025-01-26T15:22:32.441Z"
   },
   {
    "duration": 11,
    "start_time": "2025-01-26T15:22:33.965Z"
   },
   {
    "duration": 1221,
    "start_time": "2025-01-26T15:22:33.988Z"
   },
   {
    "duration": 1049,
    "start_time": "2025-01-26T15:22:35.211Z"
   },
   {
    "duration": 791,
    "start_time": "2025-01-26T15:22:36.262Z"
   },
   {
    "duration": 365,
    "start_time": "2025-01-26T15:22:37.055Z"
   },
   {
    "duration": 217,
    "start_time": "2025-01-26T15:22:37.421Z"
   },
   {
    "duration": 208,
    "start_time": "2025-01-26T15:22:37.640Z"
   },
   {
    "duration": 361,
    "start_time": "2025-01-26T15:22:37.850Z"
   },
   {
    "duration": 249,
    "start_time": "2025-01-26T15:22:38.213Z"
   },
   {
    "duration": 241,
    "start_time": "2025-01-26T15:22:38.464Z"
   },
   {
    "duration": 251,
    "start_time": "2025-01-26T15:22:38.707Z"
   },
   {
    "duration": 237,
    "start_time": "2025-01-26T15:22:58.655Z"
   },
   {
    "duration": 258,
    "start_time": "2025-01-26T15:23:18.283Z"
   },
   {
    "duration": 20,
    "start_time": "2025-01-26T15:33:20.377Z"
   },
   {
    "duration": 1096,
    "start_time": "2025-01-26T15:34:12.168Z"
   },
   {
    "duration": 788,
    "start_time": "2025-01-26T15:34:55.174Z"
   },
   {
    "duration": 130,
    "start_time": "2025-01-26T15:39:29.395Z"
   },
   {
    "duration": 22,
    "start_time": "2025-01-26T15:39:57.422Z"
   },
   {
    "duration": 34,
    "start_time": "2025-01-26T15:43:10.182Z"
   },
   {
    "duration": 24,
    "start_time": "2025-01-26T15:43:51.136Z"
   },
   {
    "duration": 804,
    "start_time": "2025-01-26T15:46:31.125Z"
   },
   {
    "duration": 778,
    "start_time": "2025-01-26T15:46:56.984Z"
   },
   {
    "duration": 787,
    "start_time": "2025-01-26T15:47:26.327Z"
   },
   {
    "duration": 808,
    "start_time": "2025-01-26T15:47:36.196Z"
   },
   {
    "duration": 9,
    "start_time": "2025-01-26T15:53:41.418Z"
   },
   {
    "duration": 18,
    "start_time": "2025-01-26T16:02:21.214Z"
   },
   {
    "duration": 18,
    "start_time": "2025-01-26T16:02:47.631Z"
   },
   {
    "duration": 18,
    "start_time": "2025-01-26T16:03:13.032Z"
   },
   {
    "duration": 18,
    "start_time": "2025-01-26T16:04:43.134Z"
   },
   {
    "duration": 14,
    "start_time": "2025-01-26T16:05:07.281Z"
   },
   {
    "duration": 10,
    "start_time": "2025-01-26T16:07:04.532Z"
   },
   {
    "duration": 12,
    "start_time": "2025-01-26T16:07:41.920Z"
   },
   {
    "duration": 88,
    "start_time": "2025-01-26T16:09:26.512Z"
   },
   {
    "duration": 21,
    "start_time": "2025-01-26T16:09:36.488Z"
   },
   {
    "duration": 25,
    "start_time": "2025-01-26T16:10:50.578Z"
   },
   {
    "duration": 10649,
    "start_time": "2025-01-26T16:41:57.242Z"
   },
   {
    "duration": 1287,
    "start_time": "2025-01-26T16:43:09.850Z"
   },
   {
    "duration": 244,
    "start_time": "2025-01-26T16:43:11.139Z"
   },
   {
    "duration": 15,
    "start_time": "2025-01-26T16:43:11.385Z"
   },
   {
    "duration": 14,
    "start_time": "2025-01-26T16:43:11.402Z"
   },
   {
    "duration": 13,
    "start_time": "2025-01-26T16:43:11.418Z"
   },
   {
    "duration": 19,
    "start_time": "2025-01-26T16:43:11.432Z"
   },
   {
    "duration": 10,
    "start_time": "2025-01-26T16:43:11.453Z"
   },
   {
    "duration": 25,
    "start_time": "2025-01-26T16:43:11.464Z"
   },
   {
    "duration": 17,
    "start_time": "2025-01-26T16:43:11.491Z"
   },
   {
    "duration": 16,
    "start_time": "2025-01-26T16:43:11.510Z"
   },
   {
    "duration": 4,
    "start_time": "2025-01-26T16:43:11.528Z"
   },
   {
    "duration": 14,
    "start_time": "2025-01-26T16:43:11.533Z"
   },
   {
    "duration": 12,
    "start_time": "2025-01-26T16:43:11.550Z"
   },
   {
    "duration": 21,
    "start_time": "2025-01-26T16:43:11.566Z"
   },
   {
    "duration": 166,
    "start_time": "2025-01-26T16:43:11.589Z"
   },
   {
    "duration": 10,
    "start_time": "2025-01-26T16:43:11.756Z"
   },
   {
    "duration": 48,
    "start_time": "2025-01-26T16:43:11.767Z"
   },
   {
    "duration": 151,
    "start_time": "2025-01-26T16:43:11.817Z"
   },
   {
    "duration": 0,
    "start_time": "2025-01-26T16:43:11.969Z"
   },
   {
    "duration": 0,
    "start_time": "2025-01-26T16:43:11.970Z"
   },
   {
    "duration": 0,
    "start_time": "2025-01-26T16:43:11.971Z"
   },
   {
    "duration": 0,
    "start_time": "2025-01-26T16:43:11.972Z"
   },
   {
    "duration": 0,
    "start_time": "2025-01-26T16:43:11.973Z"
   },
   {
    "duration": 0,
    "start_time": "2025-01-26T16:43:11.975Z"
   },
   {
    "duration": 0,
    "start_time": "2025-01-26T16:43:11.976Z"
   },
   {
    "duration": 0,
    "start_time": "2025-01-26T16:43:11.985Z"
   },
   {
    "duration": 0,
    "start_time": "2025-01-26T16:43:11.987Z"
   },
   {
    "duration": 0,
    "start_time": "2025-01-26T16:43:11.988Z"
   },
   {
    "duration": 0,
    "start_time": "2025-01-26T16:43:11.990Z"
   },
   {
    "duration": 0,
    "start_time": "2025-01-26T16:43:11.992Z"
   },
   {
    "duration": 0,
    "start_time": "2025-01-26T16:43:11.993Z"
   },
   {
    "duration": 0,
    "start_time": "2025-01-26T16:43:11.994Z"
   },
   {
    "duration": 0,
    "start_time": "2025-01-26T16:43:11.996Z"
   },
   {
    "duration": 0,
    "start_time": "2025-01-26T16:43:11.997Z"
   },
   {
    "duration": 0,
    "start_time": "2025-01-26T16:43:11.998Z"
   },
   {
    "duration": 0,
    "start_time": "2025-01-26T16:43:11.999Z"
   },
   {
    "duration": 859,
    "start_time": "2025-01-26T16:43:35.424Z"
   },
   {
    "duration": 5,
    "start_time": "2025-01-26T16:43:38.383Z"
   },
   {
    "duration": 57,
    "start_time": "2025-01-26T16:44:04.486Z"
   },
   {
    "duration": 1258,
    "start_time": "2025-01-26T16:44:12.098Z"
   },
   {
    "duration": 99,
    "start_time": "2025-01-26T16:44:13.358Z"
   },
   {
    "duration": 15,
    "start_time": "2025-01-26T16:44:13.459Z"
   },
   {
    "duration": 17,
    "start_time": "2025-01-26T16:44:13.476Z"
   },
   {
    "duration": 9,
    "start_time": "2025-01-26T16:44:13.495Z"
   },
   {
    "duration": 20,
    "start_time": "2025-01-26T16:44:13.506Z"
   },
   {
    "duration": 11,
    "start_time": "2025-01-26T16:44:13.528Z"
   },
   {
    "duration": 6,
    "start_time": "2025-01-26T16:44:13.541Z"
   },
   {
    "duration": 38,
    "start_time": "2025-01-26T16:44:13.549Z"
   },
   {
    "duration": 11,
    "start_time": "2025-01-26T16:44:13.591Z"
   },
   {
    "duration": 5,
    "start_time": "2025-01-26T16:44:13.603Z"
   },
   {
    "duration": 9,
    "start_time": "2025-01-26T16:44:13.609Z"
   },
   {
    "duration": 4,
    "start_time": "2025-01-26T16:44:13.620Z"
   },
   {
    "duration": 20,
    "start_time": "2025-01-26T16:44:13.626Z"
   },
   {
    "duration": 179,
    "start_time": "2025-01-26T16:44:13.647Z"
   },
   {
    "duration": 10,
    "start_time": "2025-01-26T16:44:13.827Z"
   },
   {
    "duration": 25,
    "start_time": "2025-01-26T16:44:13.838Z"
   },
   {
    "duration": 882,
    "start_time": "2025-01-26T16:44:13.865Z"
   },
   {
    "duration": 6,
    "start_time": "2025-01-26T16:44:14.748Z"
   },
   {
    "duration": 10204,
    "start_time": "2025-01-26T16:44:14.756Z"
   },
   {
    "duration": 1411,
    "start_time": "2025-01-26T16:44:24.961Z"
   },
   {
    "duration": 3,
    "start_time": "2025-01-26T16:44:26.374Z"
   },
   {
    "duration": 1164,
    "start_time": "2025-01-26T16:44:26.385Z"
   },
   {
    "duration": 975,
    "start_time": "2025-01-26T16:44:27.551Z"
   },
   {
    "duration": 689,
    "start_time": "2025-01-26T16:44:28.528Z"
   },
   {
    "duration": 340,
    "start_time": "2025-01-26T16:44:29.219Z"
   },
   {
    "duration": 198,
    "start_time": "2025-01-26T16:44:29.561Z"
   },
   {
    "duration": 187,
    "start_time": "2025-01-26T16:44:29.763Z"
   },
   {
    "duration": 336,
    "start_time": "2025-01-26T16:44:29.952Z"
   },
   {
    "duration": 231,
    "start_time": "2025-01-26T16:44:30.289Z"
   },
   {
    "duration": 211,
    "start_time": "2025-01-26T16:44:30.522Z"
   },
   {
    "duration": 235,
    "start_time": "2025-01-26T16:44:30.735Z"
   },
   {
    "duration": 31,
    "start_time": "2025-01-26T16:44:30.971Z"
   },
   {
    "duration": 20,
    "start_time": "2025-01-26T16:44:31.004Z"
   },
   {
    "duration": 13,
    "start_time": "2025-01-26T16:44:31.026Z"
   },
   {
    "duration": 47,
    "start_time": "2025-01-26T16:44:31.041Z"
   },
   {
    "duration": 5,
    "start_time": "2025-01-26T16:47:56.821Z"
   },
   {
    "duration": 234,
    "start_time": "2025-01-26T16:47:57.959Z"
   },
   {
    "duration": 503,
    "start_time": "2025-01-26T16:50:09.197Z"
   },
   {
    "duration": 8,
    "start_time": "2025-01-26T16:51:39.841Z"
   },
   {
    "duration": 213,
    "start_time": "2025-01-26T16:51:40.633Z"
   },
   {
    "duration": 6617,
    "start_time": "2025-01-26T17:03:47.534Z"
   },
   {
    "duration": 302,
    "start_time": "2025-01-26T17:04:17.768Z"
   },
   {
    "duration": 1591,
    "start_time": "2025-01-26T17:04:25.721Z"
   },
   {
    "duration": 573,
    "start_time": "2025-01-26T17:06:45.434Z"
   },
   {
    "duration": 404,
    "start_time": "2025-01-26T17:06:53.281Z"
   },
   {
    "duration": 7,
    "start_time": "2025-01-26T17:09:09.433Z"
   },
   {
    "duration": 475,
    "start_time": "2025-01-26T17:09:43.271Z"
   },
   {
    "duration": 395,
    "start_time": "2025-01-26T17:10:46.521Z"
   },
   {
    "duration": 1221,
    "start_time": "2025-01-26T17:11:08.235Z"
   },
   {
    "duration": 69,
    "start_time": "2025-01-26T17:11:09.458Z"
   },
   {
    "duration": 16,
    "start_time": "2025-01-26T17:11:09.529Z"
   },
   {
    "duration": 14,
    "start_time": "2025-01-26T17:11:09.548Z"
   },
   {
    "duration": 9,
    "start_time": "2025-01-26T17:11:09.565Z"
   },
   {
    "duration": 14,
    "start_time": "2025-01-26T17:11:09.585Z"
   },
   {
    "duration": 14,
    "start_time": "2025-01-26T17:11:09.601Z"
   },
   {
    "duration": 8,
    "start_time": "2025-01-26T17:11:09.617Z"
   },
   {
    "duration": 33,
    "start_time": "2025-01-26T17:11:09.627Z"
   },
   {
    "duration": 19,
    "start_time": "2025-01-26T17:11:09.664Z"
   },
   {
    "duration": 4,
    "start_time": "2025-01-26T17:11:09.685Z"
   },
   {
    "duration": 31,
    "start_time": "2025-01-26T17:11:09.691Z"
   },
   {
    "duration": 9,
    "start_time": "2025-01-26T17:11:09.725Z"
   },
   {
    "duration": 13,
    "start_time": "2025-01-26T17:11:09.736Z"
   },
   {
    "duration": 148,
    "start_time": "2025-01-26T17:11:09.751Z"
   },
   {
    "duration": 9,
    "start_time": "2025-01-26T17:11:09.901Z"
   },
   {
    "duration": 9,
    "start_time": "2025-01-26T17:11:09.911Z"
   },
   {
    "duration": 927,
    "start_time": "2025-01-26T17:11:09.921Z"
   },
   {
    "duration": 6,
    "start_time": "2025-01-26T17:11:10.849Z"
   },
   {
    "duration": 10092,
    "start_time": "2025-01-26T17:11:10.857Z"
   },
   {
    "duration": 1462,
    "start_time": "2025-01-26T17:11:20.951Z"
   },
   {
    "duration": 4,
    "start_time": "2025-01-26T17:11:22.415Z"
   },
   {
    "duration": 1123,
    "start_time": "2025-01-26T17:11:22.421Z"
   },
   {
    "duration": 984,
    "start_time": "2025-01-26T17:11:23.546Z"
   },
   {
    "duration": 693,
    "start_time": "2025-01-26T17:11:24.532Z"
   },
   {
    "duration": 338,
    "start_time": "2025-01-26T17:11:25.227Z"
   },
   {
    "duration": 200,
    "start_time": "2025-01-26T17:11:25.567Z"
   },
   {
    "duration": 192,
    "start_time": "2025-01-26T17:11:25.770Z"
   },
   {
    "duration": 330,
    "start_time": "2025-01-26T17:11:25.964Z"
   },
   {
    "duration": 424,
    "start_time": "2025-01-26T17:11:26.296Z"
   },
   {
    "duration": 6,
    "start_time": "2025-01-26T17:11:26.722Z"
   },
   {
    "duration": 784,
    "start_time": "2025-01-26T17:11:26.730Z"
   },
   {
    "duration": 0,
    "start_time": "2025-01-26T17:11:27.516Z"
   },
   {
    "duration": 0,
    "start_time": "2025-01-26T17:11:27.517Z"
   },
   {
    "duration": 0,
    "start_time": "2025-01-26T17:11:27.518Z"
   },
   {
    "duration": 1,
    "start_time": "2025-01-26T17:11:27.519Z"
   },
   {
    "duration": 0,
    "start_time": "2025-01-26T17:11:27.521Z"
   },
   {
    "duration": 0,
    "start_time": "2025-01-26T17:11:27.522Z"
   },
   {
    "duration": 0,
    "start_time": "2025-01-26T17:11:27.523Z"
   },
   {
    "duration": 0,
    "start_time": "2025-01-26T17:11:27.525Z"
   },
   {
    "duration": 383,
    "start_time": "2025-01-26T17:11:54.512Z"
   },
   {
    "duration": 358,
    "start_time": "2025-01-26T17:12:32.329Z"
   },
   {
    "duration": 382,
    "start_time": "2025-01-26T17:12:51.064Z"
   },
   {
    "duration": 584,
    "start_time": "2025-01-26T17:12:56.265Z"
   },
   {
    "duration": 669,
    "start_time": "2025-01-26T17:13:05.780Z"
   },
   {
    "duration": 223,
    "start_time": "2025-01-26T17:16:22.603Z"
   },
   {
    "duration": 257,
    "start_time": "2025-01-26T17:16:37.178Z"
   },
   {
    "duration": 249,
    "start_time": "2025-01-26T17:16:46.347Z"
   },
   {
    "duration": 311,
    "start_time": "2025-01-26T17:19:56.698Z"
   },
   {
    "duration": 13,
    "start_time": "2025-01-26T17:21:50.856Z"
   },
   {
    "duration": 231,
    "start_time": "2025-01-26T17:22:04.718Z"
   },
   {
    "duration": 4,
    "start_time": "2025-01-26T17:23:28.436Z"
   },
   {
    "duration": 11,
    "start_time": "2025-01-26T17:23:35.036Z"
   },
   {
    "duration": 215,
    "start_time": "2025-01-26T17:23:35.961Z"
   },
   {
    "duration": 1095,
    "start_time": "2025-01-26T17:25:39.501Z"
   },
   {
    "duration": 6,
    "start_time": "2025-01-26T17:26:45.199Z"
   },
   {
    "duration": 706,
    "start_time": "2025-01-26T17:27:19.701Z"
   },
   {
    "duration": 8,
    "start_time": "2025-01-26T17:43:48.114Z"
   },
   {
    "duration": 1115,
    "start_time": "2025-01-26T17:44:08.371Z"
   },
   {
    "duration": 26,
    "start_time": "2025-01-26T17:44:42.998Z"
   },
   {
    "duration": 96,
    "start_time": "2025-01-26T17:47:37.729Z"
   },
   {
    "duration": 7,
    "start_time": "2025-01-26T17:47:53.998Z"
   },
   {
    "duration": 9,
    "start_time": "2025-01-26T17:48:27.432Z"
   },
   {
    "duration": 6,
    "start_time": "2025-01-26T17:48:45.762Z"
   },
   {
    "duration": 7,
    "start_time": "2025-01-26T17:49:42.038Z"
   },
   {
    "duration": 6,
    "start_time": "2025-01-26T17:50:01.547Z"
   },
   {
    "duration": 8,
    "start_time": "2025-01-26T17:50:18.488Z"
   },
   {
    "duration": 5,
    "start_time": "2025-01-26T17:50:19.680Z"
   },
   {
    "duration": 9,
    "start_time": "2025-01-26T17:50:42.871Z"
   },
   {
    "duration": 8,
    "start_time": "2025-01-26T17:51:08.352Z"
   },
   {
    "duration": 10,
    "start_time": "2025-01-26T17:51:08.998Z"
   },
   {
    "duration": 6,
    "start_time": "2025-01-26T17:51:18.313Z"
   },
   {
    "duration": 9,
    "start_time": "2025-01-26T17:51:19.010Z"
   },
   {
    "duration": 4,
    "start_time": "2025-01-26T17:51:21.632Z"
   },
   {
    "duration": 7,
    "start_time": "2025-01-26T17:51:27.518Z"
   },
   {
    "duration": 8,
    "start_time": "2025-01-26T17:51:28.465Z"
   },
   {
    "duration": 4,
    "start_time": "2025-01-26T17:51:30.151Z"
   },
   {
    "duration": 10,
    "start_time": "2025-01-26T17:54:28.596Z"
   },
   {
    "duration": 79,
    "start_time": "2025-01-26T17:54:36.866Z"
   },
   {
    "duration": 41,
    "start_time": "2025-01-26T17:54:58.800Z"
   },
   {
    "duration": 60,
    "start_time": "2025-01-26T17:56:20.770Z"
   },
   {
    "duration": 44,
    "start_time": "2025-01-26T17:57:23.048Z"
   },
   {
    "duration": 11,
    "start_time": "2025-01-26T17:59:56.260Z"
   },
   {
    "duration": 7,
    "start_time": "2025-01-26T17:59:57.625Z"
   },
   {
    "duration": 45,
    "start_time": "2025-01-26T18:00:29.322Z"
   },
   {
    "duration": 43,
    "start_time": "2025-01-26T18:01:36.903Z"
   },
   {
    "duration": 41,
    "start_time": "2025-01-26T18:02:10.374Z"
   },
   {
    "duration": 40,
    "start_time": "2025-01-26T18:02:26.642Z"
   },
   {
    "duration": 44,
    "start_time": "2025-01-26T18:03:09.351Z"
   },
   {
    "duration": 34,
    "start_time": "2025-01-26T18:04:58.647Z"
   },
   {
    "duration": 33,
    "start_time": "2025-01-26T18:06:05.756Z"
   },
   {
    "duration": 5,
    "start_time": "2025-01-26T18:06:37.441Z"
   },
   {
    "duration": 3,
    "start_time": "2025-01-26T18:06:43.135Z"
   },
   {
    "duration": 73,
    "start_time": "2025-01-26T18:07:11.217Z"
   },
   {
    "duration": 32,
    "start_time": "2025-01-26T18:07:12.049Z"
   },
   {
    "duration": 5,
    "start_time": "2025-01-26T18:07:32.009Z"
   },
   {
    "duration": 4,
    "start_time": "2025-01-26T18:07:32.839Z"
   },
   {
    "duration": 35,
    "start_time": "2025-01-26T18:07:33.794Z"
   },
   {
    "duration": 47,
    "start_time": "2025-01-26T18:08:09.400Z"
   },
   {
    "duration": 43,
    "start_time": "2025-01-26T18:09:06.622Z"
   },
   {
    "duration": 34,
    "start_time": "2025-01-26T18:09:29.235Z"
   },
   {
    "duration": 47,
    "start_time": "2025-01-26T18:10:10.247Z"
   },
   {
    "duration": 34,
    "start_time": "2025-01-26T18:10:34.969Z"
   },
   {
    "duration": 33,
    "start_time": "2025-01-26T18:10:47.780Z"
   },
   {
    "duration": 35,
    "start_time": "2025-01-26T18:10:58.024Z"
   },
   {
    "duration": 32,
    "start_time": "2025-01-26T18:11:24.404Z"
   },
   {
    "duration": 33,
    "start_time": "2025-01-26T18:12:02.827Z"
   },
   {
    "duration": 91,
    "start_time": "2025-01-26T18:12:41.124Z"
   },
   {
    "duration": 31,
    "start_time": "2025-01-26T18:13:02.839Z"
   },
   {
    "duration": 40,
    "start_time": "2025-01-26T18:13:20.225Z"
   },
   {
    "duration": 32,
    "start_time": "2025-01-26T18:13:41.278Z"
   },
   {
    "duration": 1339,
    "start_time": "2025-01-26T18:14:01.395Z"
   },
   {
    "duration": 130,
    "start_time": "2025-01-26T18:14:02.736Z"
   },
   {
    "duration": 15,
    "start_time": "2025-01-26T18:14:02.867Z"
   },
   {
    "duration": 34,
    "start_time": "2025-01-26T18:14:02.884Z"
   },
   {
    "duration": 9,
    "start_time": "2025-01-26T18:14:02.920Z"
   },
   {
    "duration": 12,
    "start_time": "2025-01-26T18:14:02.931Z"
   },
   {
    "duration": 42,
    "start_time": "2025-01-26T18:14:02.945Z"
   },
   {
    "duration": 13,
    "start_time": "2025-01-26T18:14:02.989Z"
   },
   {
    "duration": 18,
    "start_time": "2025-01-26T18:14:03.004Z"
   },
   {
    "duration": 10,
    "start_time": "2025-01-26T18:14:03.024Z"
   },
   {
    "duration": 38,
    "start_time": "2025-01-26T18:14:03.035Z"
   },
   {
    "duration": 11,
    "start_time": "2025-01-26T18:14:03.074Z"
   },
   {
    "duration": 39,
    "start_time": "2025-01-26T18:14:03.087Z"
   },
   {
    "duration": 21,
    "start_time": "2025-01-26T18:14:03.129Z"
   },
   {
    "duration": 176,
    "start_time": "2025-01-26T18:14:03.151Z"
   },
   {
    "duration": 10,
    "start_time": "2025-01-26T18:14:03.329Z"
   },
   {
    "duration": 29,
    "start_time": "2025-01-26T18:14:03.341Z"
   },
   {
    "duration": 880,
    "start_time": "2025-01-26T18:14:03.372Z"
   },
   {
    "duration": 4,
    "start_time": "2025-01-26T18:14:04.254Z"
   },
   {
    "duration": 9962,
    "start_time": "2025-01-26T18:14:04.260Z"
   },
   {
    "duration": 1415,
    "start_time": "2025-01-26T18:14:14.224Z"
   },
   {
    "duration": 4,
    "start_time": "2025-01-26T18:14:15.640Z"
   },
   {
    "duration": 1174,
    "start_time": "2025-01-26T18:14:15.645Z"
   },
   {
    "duration": 991,
    "start_time": "2025-01-26T18:14:16.821Z"
   },
   {
    "duration": 697,
    "start_time": "2025-01-26T18:14:17.815Z"
   },
   {
    "duration": 332,
    "start_time": "2025-01-26T18:14:18.514Z"
   },
   {
    "duration": 222,
    "start_time": "2025-01-26T18:14:18.848Z"
   },
   {
    "duration": 198,
    "start_time": "2025-01-26T18:14:19.072Z"
   },
   {
    "duration": 341,
    "start_time": "2025-01-26T18:14:19.272Z"
   },
   {
    "duration": 233,
    "start_time": "2025-01-26T18:14:19.615Z"
   },
   {
    "duration": 384,
    "start_time": "2025-01-26T18:14:19.850Z"
   },
   {
    "duration": 8,
    "start_time": "2025-01-26T18:14:20.236Z"
   },
   {
    "duration": 1024,
    "start_time": "2025-01-26T18:14:20.245Z"
   },
   {
    "duration": 214,
    "start_time": "2025-01-26T18:14:21.271Z"
   },
   {
    "duration": 11,
    "start_time": "2025-01-26T18:14:21.487Z"
   },
   {
    "duration": 225,
    "start_time": "2025-01-26T18:14:21.500Z"
   },
   {
    "duration": 10,
    "start_time": "2025-01-26T18:14:21.727Z"
   },
   {
    "duration": 256,
    "start_time": "2025-01-26T18:14:21.739Z"
   },
   {
    "duration": 725,
    "start_time": "2025-01-26T18:14:21.997Z"
   },
   {
    "duration": 6,
    "start_time": "2025-01-26T18:14:22.723Z"
   },
   {
    "duration": 706,
    "start_time": "2025-01-26T18:14:22.734Z"
   },
   {
    "duration": 9,
    "start_time": "2025-01-26T18:14:23.442Z"
   },
   {
    "duration": 8,
    "start_time": "2025-01-26T18:14:23.453Z"
   },
   {
    "duration": 25,
    "start_time": "2025-01-26T18:14:23.462Z"
   },
   {
    "duration": 65,
    "start_time": "2025-01-26T18:14:23.489Z"
   },
   {
    "duration": 0,
    "start_time": "2025-01-26T18:14:23.556Z"
   },
   {
    "duration": 0,
    "start_time": "2025-01-26T18:14:23.557Z"
   },
   {
    "duration": 0,
    "start_time": "2025-01-26T18:14:23.558Z"
   },
   {
    "duration": 0,
    "start_time": "2025-01-26T18:14:23.559Z"
   },
   {
    "duration": 0,
    "start_time": "2025-01-26T18:14:23.560Z"
   },
   {
    "duration": 0,
    "start_time": "2025-01-26T18:14:23.561Z"
   },
   {
    "duration": 0,
    "start_time": "2025-01-26T18:14:23.562Z"
   },
   {
    "duration": 5,
    "start_time": "2025-01-26T18:14:54.107Z"
   },
   {
    "duration": 5,
    "start_time": "2025-01-26T18:14:54.738Z"
   },
   {
    "duration": 37,
    "start_time": "2025-01-26T18:14:55.507Z"
   },
   {
    "duration": 35,
    "start_time": "2025-01-26T18:15:40.001Z"
   },
   {
    "duration": 8,
    "start_time": "2025-01-26T18:18:28.992Z"
   },
   {
    "duration": 6,
    "start_time": "2025-01-26T18:18:43.338Z"
   },
   {
    "duration": 6,
    "start_time": "2025-01-26T18:19:20.558Z"
   },
   {
    "duration": 115,
    "start_time": "2025-01-26T18:19:37.155Z"
   },
   {
    "duration": 6,
    "start_time": "2025-01-26T18:19:46.704Z"
   },
   {
    "duration": 9,
    "start_time": "2025-01-26T18:19:47.084Z"
   },
   {
    "duration": 8,
    "start_time": "2025-01-26T18:22:01.840Z"
   },
   {
    "duration": 8,
    "start_time": "2025-01-26T18:22:02.587Z"
   },
   {
    "duration": 9,
    "start_time": "2025-01-26T18:24:34.666Z"
   },
   {
    "duration": 6,
    "start_time": "2025-01-26T18:24:35.914Z"
   },
   {
    "duration": 9,
    "start_time": "2025-01-26T18:24:55.692Z"
   },
   {
    "duration": 6,
    "start_time": "2025-01-26T18:24:56.367Z"
   },
   {
    "duration": 7,
    "start_time": "2025-01-26T18:26:03.271Z"
   },
   {
    "duration": 9,
    "start_time": "2025-01-26T18:26:03.668Z"
   },
   {
    "duration": 6,
    "start_time": "2025-01-26T18:26:36.971Z"
   },
   {
    "duration": 9,
    "start_time": "2025-01-26T18:26:37.695Z"
   },
   {
    "duration": 10,
    "start_time": "2025-01-26T18:27:03.094Z"
   },
   {
    "duration": 8,
    "start_time": "2025-01-26T18:27:04.459Z"
   },
   {
    "duration": 11,
    "start_time": "2025-01-26T18:27:55.983Z"
   },
   {
    "duration": 8,
    "start_time": "2025-01-26T18:27:57.245Z"
   },
   {
    "duration": 8,
    "start_time": "2025-01-26T18:28:11.557Z"
   },
   {
    "duration": 13,
    "start_time": "2025-01-26T18:28:29.000Z"
   },
   {
    "duration": 9,
    "start_time": "2025-01-26T18:28:30.005Z"
   },
   {
    "duration": 56,
    "start_time": "2025-01-26T18:31:14.469Z"
   },
   {
    "duration": 110,
    "start_time": "2025-01-26T18:33:36.224Z"
   },
   {
    "duration": 51,
    "start_time": "2025-01-26T18:35:14.878Z"
   },
   {
    "duration": 54,
    "start_time": "2025-01-27T05:58:26.751Z"
   },
   {
    "duration": 11,
    "start_time": "2025-01-27T05:59:44.276Z"
   },
   {
    "duration": 1418,
    "start_time": "2025-01-27T05:59:50.438Z"
   },
   {
    "duration": 112,
    "start_time": "2025-01-27T05:59:51.858Z"
   },
   {
    "duration": 15,
    "start_time": "2025-01-27T05:59:51.972Z"
   },
   {
    "duration": 13,
    "start_time": "2025-01-27T05:59:51.989Z"
   },
   {
    "duration": 8,
    "start_time": "2025-01-27T05:59:52.767Z"
   },
   {
    "duration": 10,
    "start_time": "2025-01-27T05:59:52.928Z"
   },
   {
    "duration": 10,
    "start_time": "2025-01-27T05:59:53.088Z"
   },
   {
    "duration": 5,
    "start_time": "2025-01-27T05:59:53.252Z"
   },
   {
    "duration": 5,
    "start_time": "2025-01-27T05:59:53.399Z"
   },
   {
    "duration": 9,
    "start_time": "2025-01-27T05:59:53.575Z"
   },
   {
    "duration": 4,
    "start_time": "2025-01-27T05:59:53.728Z"
   },
   {
    "duration": 6,
    "start_time": "2025-01-27T05:59:53.903Z"
   },
   {
    "duration": 3,
    "start_time": "2025-01-27T05:59:54.079Z"
   },
   {
    "duration": 9,
    "start_time": "2025-01-27T05:59:54.256Z"
   },
   {
    "duration": 145,
    "start_time": "2025-01-27T05:59:54.440Z"
   },
   {
    "duration": 8,
    "start_time": "2025-01-27T05:59:54.629Z"
   },
   {
    "duration": 9,
    "start_time": "2025-01-27T05:59:54.809Z"
   },
   {
    "duration": 947,
    "start_time": "2025-01-27T05:59:55.745Z"
   },
   {
    "duration": 5,
    "start_time": "2025-01-27T05:59:56.694Z"
   },
   {
    "duration": 9899,
    "start_time": "2025-01-27T05:59:56.700Z"
   },
   {
    "duration": 1451,
    "start_time": "2025-01-27T06:00:06.601Z"
   },
   {
    "duration": 4,
    "start_time": "2025-01-27T06:00:08.054Z"
   },
   {
    "duration": 1404,
    "start_time": "2025-01-27T06:00:08.059Z"
   },
   {
    "duration": 691,
    "start_time": "2025-01-27T06:00:09.465Z"
   },
   {
    "duration": 700,
    "start_time": "2025-01-27T06:00:10.158Z"
   },
   {
    "duration": 355,
    "start_time": "2025-01-27T06:00:10.860Z"
   },
   {
    "duration": 202,
    "start_time": "2025-01-27T06:00:11.218Z"
   },
   {
    "duration": 186,
    "start_time": "2025-01-27T06:00:11.422Z"
   },
   {
    "duration": 327,
    "start_time": "2025-01-27T06:00:11.610Z"
   },
   {
    "duration": 236,
    "start_time": "2025-01-27T06:00:11.938Z"
   },
   {
    "duration": 379,
    "start_time": "2025-01-27T06:00:12.176Z"
   },
   {
    "duration": 7,
    "start_time": "2025-01-27T06:00:12.557Z"
   },
   {
    "duration": 1029,
    "start_time": "2025-01-27T06:00:12.565Z"
   },
   {
    "duration": 214,
    "start_time": "2025-01-27T06:00:13.596Z"
   },
   {
    "duration": 9,
    "start_time": "2025-01-27T06:00:13.812Z"
   },
   {
    "duration": 237,
    "start_time": "2025-01-27T06:00:13.823Z"
   },
   {
    "duration": 11,
    "start_time": "2025-01-27T06:00:14.061Z"
   },
   {
    "duration": 246,
    "start_time": "2025-01-27T06:00:14.073Z"
   },
   {
    "duration": 723,
    "start_time": "2025-01-27T06:00:14.322Z"
   },
   {
    "duration": 7,
    "start_time": "2025-01-27T06:00:15.047Z"
   },
   {
    "duration": 714,
    "start_time": "2025-01-27T06:00:15.055Z"
   },
   {
    "duration": 4,
    "start_time": "2025-01-27T06:00:15.771Z"
   },
   {
    "duration": 8,
    "start_time": "2025-01-27T06:00:15.777Z"
   },
   {
    "duration": 26,
    "start_time": "2025-01-27T06:00:15.787Z"
   },
   {
    "duration": 8,
    "start_time": "2025-01-27T06:00:15.816Z"
   },
   {
    "duration": 7,
    "start_time": "2025-01-27T06:00:28.168Z"
   },
   {
    "duration": 8,
    "start_time": "2025-01-27T06:00:29.553Z"
   },
   {
    "duration": 54,
    "start_time": "2025-01-27T06:00:32.792Z"
   },
   {
    "duration": 54,
    "start_time": "2025-01-27T06:03:28.049Z"
   },
   {
    "duration": 71,
    "start_time": "2025-01-27T06:03:57.769Z"
   },
   {
    "duration": 53,
    "start_time": "2025-01-27T06:04:25.792Z"
   },
   {
    "duration": 51,
    "start_time": "2025-01-27T06:04:36.425Z"
   },
   {
    "duration": 52,
    "start_time": "2025-01-27T06:04:46.768Z"
   },
   {
    "duration": 51,
    "start_time": "2025-01-27T06:04:54.628Z"
   },
   {
    "duration": 53,
    "start_time": "2025-01-27T06:05:11.030Z"
   },
   {
    "duration": 51,
    "start_time": "2025-01-27T06:05:31.840Z"
   },
   {
    "duration": 53,
    "start_time": "2025-01-27T06:05:51.648Z"
   },
   {
    "duration": 57,
    "start_time": "2025-01-27T06:06:20.440Z"
   },
   {
    "duration": 52,
    "start_time": "2025-01-27T06:07:24.932Z"
   },
   {
    "duration": 56,
    "start_time": "2025-01-27T06:09:04.297Z"
   },
   {
    "duration": 53,
    "start_time": "2025-01-27T06:09:18.262Z"
   },
   {
    "duration": 54,
    "start_time": "2025-01-27T06:09:26.504Z"
   },
   {
    "duration": 53,
    "start_time": "2025-01-27T06:11:08.823Z"
   },
   {
    "duration": 98,
    "start_time": "2025-01-27T06:11:26.624Z"
   },
   {
    "duration": 52,
    "start_time": "2025-01-27T06:11:32.151Z"
   },
   {
    "duration": 75,
    "start_time": "2025-01-27T06:12:14.985Z"
   },
   {
    "duration": 4,
    "start_time": "2025-01-27T06:12:41.575Z"
   },
   {
    "duration": 1253,
    "start_time": "2025-01-27T06:13:17.000Z"
   },
   {
    "duration": 84,
    "start_time": "2025-01-27T06:13:18.255Z"
   },
   {
    "duration": 15,
    "start_time": "2025-01-27T06:13:18.341Z"
   },
   {
    "duration": 25,
    "start_time": "2025-01-27T06:13:18.358Z"
   },
   {
    "duration": 8,
    "start_time": "2025-01-27T06:13:18.384Z"
   },
   {
    "duration": 24,
    "start_time": "2025-01-27T06:13:18.394Z"
   },
   {
    "duration": 13,
    "start_time": "2025-01-27T06:13:18.419Z"
   },
   {
    "duration": 7,
    "start_time": "2025-01-27T06:13:18.434Z"
   },
   {
    "duration": 15,
    "start_time": "2025-01-27T06:13:18.442Z"
   },
   {
    "duration": 49,
    "start_time": "2025-01-27T06:13:18.459Z"
   },
   {
    "duration": 48,
    "start_time": "2025-01-27T06:13:18.510Z"
   },
   {
    "duration": 18,
    "start_time": "2025-01-27T06:13:18.559Z"
   },
   {
    "duration": 18,
    "start_time": "2025-01-27T06:13:18.579Z"
   },
   {
    "duration": 18,
    "start_time": "2025-01-27T06:13:18.599Z"
   },
   {
    "duration": 189,
    "start_time": "2025-01-27T06:13:18.618Z"
   },
   {
    "duration": 9,
    "start_time": "2025-01-27T06:13:18.809Z"
   },
   {
    "duration": 30,
    "start_time": "2025-01-27T06:13:18.820Z"
   },
   {
    "duration": 901,
    "start_time": "2025-01-27T06:13:18.851Z"
   },
   {
    "duration": 5,
    "start_time": "2025-01-27T06:13:19.754Z"
   },
   {
    "duration": 9688,
    "start_time": "2025-01-27T06:13:19.760Z"
   },
   {
    "duration": 1442,
    "start_time": "2025-01-27T06:13:29.450Z"
   },
   {
    "duration": 4,
    "start_time": "2025-01-27T06:13:30.894Z"
   },
   {
    "duration": 1125,
    "start_time": "2025-01-27T06:13:30.908Z"
   },
   {
    "duration": 982,
    "start_time": "2025-01-27T06:13:32.035Z"
   },
   {
    "duration": 684,
    "start_time": "2025-01-27T06:13:33.019Z"
   },
   {
    "duration": 321,
    "start_time": "2025-01-27T06:13:33.705Z"
   },
   {
    "duration": 195,
    "start_time": "2025-01-27T06:13:34.028Z"
   },
   {
    "duration": 186,
    "start_time": "2025-01-27T06:13:34.226Z"
   },
   {
    "duration": 319,
    "start_time": "2025-01-27T06:13:34.414Z"
   },
   {
    "duration": 222,
    "start_time": "2025-01-27T06:13:34.735Z"
   },
   {
    "duration": 382,
    "start_time": "2025-01-27T06:13:34.958Z"
   },
   {
    "duration": 5,
    "start_time": "2025-01-27T06:13:35.342Z"
   },
   {
    "duration": 979,
    "start_time": "2025-01-27T06:13:35.349Z"
   },
   {
    "duration": 205,
    "start_time": "2025-01-27T06:13:36.329Z"
   },
   {
    "duration": 10,
    "start_time": "2025-01-27T06:13:36.536Z"
   },
   {
    "duration": 235,
    "start_time": "2025-01-27T06:13:36.548Z"
   },
   {
    "duration": 9,
    "start_time": "2025-01-27T06:13:36.785Z"
   },
   {
    "duration": 220,
    "start_time": "2025-01-27T06:13:36.796Z"
   },
   {
    "duration": 677,
    "start_time": "2025-01-27T06:13:37.017Z"
   },
   {
    "duration": 12,
    "start_time": "2025-01-27T06:13:37.696Z"
   },
   {
    "duration": 669,
    "start_time": "2025-01-27T06:13:37.710Z"
   },
   {
    "duration": 10,
    "start_time": "2025-01-27T06:13:38.380Z"
   },
   {
    "duration": 20,
    "start_time": "2025-01-27T06:13:38.391Z"
   },
   {
    "duration": 10,
    "start_time": "2025-01-27T06:13:38.413Z"
   },
   {
    "duration": 13,
    "start_time": "2025-01-27T06:13:38.425Z"
   },
   {
    "duration": 70,
    "start_time": "2025-01-27T06:13:38.439Z"
   },
   {
    "duration": 5,
    "start_time": "2025-01-27T06:13:38.510Z"
   },
   {
    "duration": 21,
    "start_time": "2025-01-27T06:13:38.517Z"
   },
   {
    "duration": 23,
    "start_time": "2025-01-27T06:13:38.540Z"
   },
   {
    "duration": 12,
    "start_time": "2025-01-27T06:13:38.565Z"
   },
   {
    "duration": 40,
    "start_time": "2025-01-27T06:13:38.579Z"
   },
   {
    "duration": 58,
    "start_time": "2025-01-27T06:14:06.586Z"
   },
   {
    "duration": 57,
    "start_time": "2025-01-27T06:14:24.514Z"
   },
   {
    "duration": 64,
    "start_time": "2025-01-27T06:14:55.354Z"
   },
   {
    "duration": 59,
    "start_time": "2025-01-27T06:15:05.577Z"
   },
   {
    "duration": 54,
    "start_time": "2025-01-27T06:15:58.404Z"
   },
   {
    "duration": 75,
    "start_time": "2025-01-27T06:16:32.720Z"
   },
   {
    "duration": 58,
    "start_time": "2025-01-27T06:16:44.761Z"
   },
   {
    "duration": 56,
    "start_time": "2025-01-27T06:17:06.186Z"
   },
   {
    "duration": 57,
    "start_time": "2025-01-27T06:17:19.279Z"
   },
   {
    "duration": 61,
    "start_time": "2025-01-27T06:17:33.023Z"
   },
   {
    "duration": 59,
    "start_time": "2025-01-27T06:18:57.954Z"
   },
   {
    "duration": 69,
    "start_time": "2025-01-27T06:19:17.449Z"
   },
   {
    "duration": 59,
    "start_time": "2025-01-27T06:22:58.105Z"
   },
   {
    "duration": 74,
    "start_time": "2025-01-27T06:23:34.256Z"
   },
   {
    "duration": 56,
    "start_time": "2025-01-27T06:23:43.529Z"
   },
   {
    "duration": 60,
    "start_time": "2025-01-27T06:24:58.186Z"
   },
   {
    "duration": 57,
    "start_time": "2025-01-27T06:26:25.998Z"
   },
   {
    "duration": 74,
    "start_time": "2025-01-27T06:27:43.449Z"
   },
   {
    "duration": 62,
    "start_time": "2025-01-27T06:27:49.721Z"
   },
   {
    "duration": 58,
    "start_time": "2025-01-27T06:30:13.713Z"
   },
   {
    "duration": 54,
    "start_time": "2025-01-27T06:32:07.865Z"
   },
   {
    "duration": 56,
    "start_time": "2025-01-27T06:32:20.680Z"
   },
   {
    "duration": 54,
    "start_time": "2025-01-27T06:32:35.696Z"
   },
   {
    "duration": 51,
    "start_time": "2025-01-27T06:34:47.984Z"
   },
   {
    "duration": 74,
    "start_time": "2025-01-27T06:48:42.639Z"
   },
   {
    "duration": 61,
    "start_time": "2025-01-27T06:49:47.934Z"
   },
   {
    "duration": 72,
    "start_time": "2025-01-27T07:05:54.893Z"
   },
   {
    "duration": 168,
    "start_time": "2025-01-27T07:06:24.333Z"
   },
   {
    "duration": 12,
    "start_time": "2025-01-27T07:06:29.861Z"
   },
   {
    "duration": 1234,
    "start_time": "2025-01-27T07:06:43.119Z"
   },
   {
    "duration": 86,
    "start_time": "2025-01-27T07:06:44.355Z"
   },
   {
    "duration": 53,
    "start_time": "2025-01-27T07:06:44.442Z"
   },
   {
    "duration": 16,
    "start_time": "2025-01-27T07:06:44.497Z"
   },
   {
    "duration": 30,
    "start_time": "2025-01-27T07:06:44.514Z"
   },
   {
    "duration": 8,
    "start_time": "2025-01-27T07:06:44.545Z"
   },
   {
    "duration": 16,
    "start_time": "2025-01-27T07:06:44.554Z"
   },
   {
    "duration": 18,
    "start_time": "2025-01-27T07:06:44.572Z"
   },
   {
    "duration": 19,
    "start_time": "2025-01-27T07:06:44.591Z"
   },
   {
    "duration": 12,
    "start_time": "2025-01-27T07:06:44.613Z"
   },
   {
    "duration": 9,
    "start_time": "2025-01-27T07:06:44.627Z"
   },
   {
    "duration": 9,
    "start_time": "2025-01-27T07:06:44.637Z"
   },
   {
    "duration": 7,
    "start_time": "2025-01-27T07:06:44.648Z"
   },
   {
    "duration": 8,
    "start_time": "2025-01-27T07:06:44.657Z"
   },
   {
    "duration": 23,
    "start_time": "2025-01-27T07:06:44.667Z"
   },
   {
    "duration": 149,
    "start_time": "2025-01-27T07:06:44.691Z"
   },
   {
    "duration": 9,
    "start_time": "2025-01-27T07:06:44.842Z"
   },
   {
    "duration": 8,
    "start_time": "2025-01-27T07:06:44.852Z"
   },
   {
    "duration": 903,
    "start_time": "2025-01-27T07:06:44.862Z"
   },
   {
    "duration": 4,
    "start_time": "2025-01-27T07:06:45.767Z"
   },
   {
    "duration": 9888,
    "start_time": "2025-01-27T07:06:45.772Z"
   },
   {
    "duration": 1419,
    "start_time": "2025-01-27T07:06:55.661Z"
   },
   {
    "duration": 3,
    "start_time": "2025-01-27T07:06:57.082Z"
   },
   {
    "duration": 1137,
    "start_time": "2025-01-27T07:06:57.087Z"
   },
   {
    "duration": 974,
    "start_time": "2025-01-27T07:06:58.225Z"
   },
   {
    "duration": 699,
    "start_time": "2025-01-27T07:06:59.201Z"
   },
   {
    "duration": 345,
    "start_time": "2025-01-27T07:06:59.902Z"
   },
   {
    "duration": 198,
    "start_time": "2025-01-27T07:07:00.252Z"
   },
   {
    "duration": 207,
    "start_time": "2025-01-27T07:07:00.452Z"
   },
   {
    "duration": 351,
    "start_time": "2025-01-27T07:07:00.661Z"
   },
   {
    "duration": 256,
    "start_time": "2025-01-27T07:07:01.014Z"
   },
   {
    "duration": 382,
    "start_time": "2025-01-27T07:07:01.272Z"
   },
   {
    "duration": 6,
    "start_time": "2025-01-27T07:07:01.656Z"
   },
   {
    "duration": 969,
    "start_time": "2025-01-27T07:07:01.664Z"
   },
   {
    "duration": 216,
    "start_time": "2025-01-27T07:07:02.634Z"
   },
   {
    "duration": 10,
    "start_time": "2025-01-27T07:07:02.852Z"
   },
   {
    "duration": 335,
    "start_time": "2025-01-27T07:07:02.864Z"
   },
   {
    "duration": 10,
    "start_time": "2025-01-27T07:07:03.207Z"
   },
   {
    "duration": 258,
    "start_time": "2025-01-27T07:07:03.219Z"
   },
   {
    "duration": 706,
    "start_time": "2025-01-27T07:07:03.479Z"
   },
   {
    "duration": 6,
    "start_time": "2025-01-27T07:07:04.187Z"
   },
   {
    "duration": 717,
    "start_time": "2025-01-27T07:07:04.195Z"
   },
   {
    "duration": 9,
    "start_time": "2025-01-27T07:07:04.913Z"
   },
   {
    "duration": 83,
    "start_time": "2025-01-27T07:07:04.924Z"
   },
   {
    "duration": 28,
    "start_time": "2025-01-27T07:07:05.009Z"
   },
   {
    "duration": 24,
    "start_time": "2025-01-27T07:07:05.039Z"
   },
   {
    "duration": 65,
    "start_time": "2025-01-27T07:07:05.065Z"
   },
   {
    "duration": 12,
    "start_time": "2025-01-27T07:07:05.132Z"
   },
   {
    "duration": 136,
    "start_time": "2025-01-27T07:07:05.145Z"
   },
   {
    "duration": 162,
    "start_time": "2025-01-27T07:20:26.702Z"
   },
   {
    "duration": 170,
    "start_time": "2025-01-27T07:20:34.718Z"
   },
   {
    "duration": 174,
    "start_time": "2025-01-27T07:21:35.733Z"
   },
   {
    "duration": 166,
    "start_time": "2025-01-27T07:21:45.959Z"
   },
   {
    "duration": 183,
    "start_time": "2025-01-27T07:21:53.447Z"
   },
   {
    "duration": 608,
    "start_time": "2025-01-27T07:21:58.568Z"
   },
   {
    "duration": 303,
    "start_time": "2025-01-27T07:22:07.054Z"
   },
   {
    "duration": 135,
    "start_time": "2025-01-27T07:26:33.005Z"
   },
   {
    "duration": 293,
    "start_time": "2025-01-27T07:26:46.525Z"
   },
   {
    "duration": 150,
    "start_time": "2025-01-27T07:35:11.816Z"
   },
   {
    "duration": 277,
    "start_time": "2025-01-27T07:39:10.198Z"
   },
   {
    "duration": 261,
    "start_time": "2025-01-27T07:44:06.118Z"
   },
   {
    "duration": 11,
    "start_time": "2025-01-27T07:48:21.030Z"
   },
   {
    "duration": 601,
    "start_time": "2025-01-27T07:48:26.339Z"
   },
   {
    "duration": 5,
    "start_time": "2025-01-27T07:51:24.019Z"
   },
   {
    "duration": 312,
    "start_time": "2025-01-27T07:53:27.012Z"
   },
   {
    "duration": 327,
    "start_time": "2025-01-27T07:54:25.916Z"
   },
   {
    "duration": 235,
    "start_time": "2025-01-27T08:30:14.672Z"
   },
   {
    "duration": 210,
    "start_time": "2025-01-27T08:30:25.487Z"
   },
   {
    "duration": 199,
    "start_time": "2025-01-27T08:30:56.175Z"
   },
   {
    "duration": 183,
    "start_time": "2025-01-27T08:32:10.190Z"
   },
   {
    "duration": 338,
    "start_time": "2025-01-27T08:32:39.783Z"
   },
   {
    "duration": 229,
    "start_time": "2025-01-27T08:33:45.968Z"
   },
   {
    "duration": 1077,
    "start_time": "2025-01-27T08:35:43.868Z"
   },
   {
    "duration": 1006,
    "start_time": "2025-01-27T08:35:51.213Z"
   },
   {
    "duration": 698,
    "start_time": "2025-01-27T08:35:56.923Z"
   },
   {
    "duration": 658,
    "start_time": "2025-01-27T08:38:05.149Z"
   },
   {
    "duration": 215,
    "start_time": "2025-01-27T08:39:29.195Z"
   },
   {
    "duration": 236,
    "start_time": "2025-01-27T08:40:35.234Z"
   },
   {
    "duration": 261,
    "start_time": "2025-01-27T08:41:24.828Z"
   },
   {
    "duration": 1092,
    "start_time": "2025-01-27T08:42:42.930Z"
   },
   {
    "duration": 720,
    "start_time": "2025-01-27T08:43:24.105Z"
   },
   {
    "duration": 15,
    "start_time": "2025-01-27T09:05:27.955Z"
   },
   {
    "duration": 14,
    "start_time": "2025-01-27T09:05:46.301Z"
   },
   {
    "duration": 6,
    "start_time": "2025-01-27T09:06:54.197Z"
   },
   {
    "duration": 13,
    "start_time": "2025-01-27T09:07:08.725Z"
   },
   {
    "duration": 6,
    "start_time": "2025-01-27T09:07:15.247Z"
   },
   {
    "duration": 14,
    "start_time": "2025-01-27T09:07:42.792Z"
   },
   {
    "duration": 10,
    "start_time": "2025-01-27T09:07:50.213Z"
   },
   {
    "duration": 4,
    "start_time": "2025-01-27T09:08:05.838Z"
   },
   {
    "duration": 9,
    "start_time": "2025-01-27T09:08:11.771Z"
   },
   {
    "duration": 15,
    "start_time": "2025-01-27T09:08:25.679Z"
   },
   {
    "duration": 14,
    "start_time": "2025-01-27T09:10:21.237Z"
   },
   {
    "duration": 75,
    "start_time": "2025-01-27T09:11:22.607Z"
   },
   {
    "duration": 68,
    "start_time": "2025-01-27T09:11:30.062Z"
   },
   {
    "duration": 86,
    "start_time": "2025-01-27T09:11:41.287Z"
   },
   {
    "duration": 13,
    "start_time": "2025-01-27T09:11:55.938Z"
   },
   {
    "duration": 14,
    "start_time": "2025-01-27T09:13:51.079Z"
   },
   {
    "duration": 9,
    "start_time": "2025-01-27T09:15:29.970Z"
   },
   {
    "duration": 6,
    "start_time": "2025-01-27T09:15:46.551Z"
   },
   {
    "duration": 5,
    "start_time": "2025-01-27T09:16:08.176Z"
   },
   {
    "duration": 13,
    "start_time": "2025-01-27T09:20:01.575Z"
   },
   {
    "duration": 32,
    "start_time": "2025-01-27T09:20:20.282Z"
   },
   {
    "duration": 3,
    "start_time": "2025-01-27T09:22:15.064Z"
   },
   {
    "duration": 5,
    "start_time": "2025-01-27T09:22:19.574Z"
   },
   {
    "duration": 7,
    "start_time": "2025-01-27T09:23:30.912Z"
   },
   {
    "duration": 6,
    "start_time": "2025-01-27T09:23:55.509Z"
   },
   {
    "duration": 13,
    "start_time": "2025-01-27T09:24:12.399Z"
   },
   {
    "duration": 6,
    "start_time": "2025-01-27T09:25:54.240Z"
   },
   {
    "duration": 6,
    "start_time": "2025-01-27T09:27:03.174Z"
   },
   {
    "duration": 12,
    "start_time": "2025-01-27T09:28:00.023Z"
   },
   {
    "duration": 1243,
    "start_time": "2025-01-27T09:52:34.815Z"
   },
   {
    "duration": 160,
    "start_time": "2025-01-27T09:52:36.061Z"
   },
   {
    "duration": 16,
    "start_time": "2025-01-27T09:52:36.223Z"
   },
   {
    "duration": 40,
    "start_time": "2025-01-27T09:52:36.240Z"
   },
   {
    "duration": 20,
    "start_time": "2025-01-27T09:52:36.282Z"
   },
   {
    "duration": 20,
    "start_time": "2025-01-27T09:52:36.303Z"
   },
   {
    "duration": 49,
    "start_time": "2025-01-27T09:52:36.324Z"
   },
   {
    "duration": 71,
    "start_time": "2025-01-27T09:52:36.375Z"
   },
   {
    "duration": 101,
    "start_time": "2025-01-27T09:52:36.448Z"
   },
   {
    "duration": 142,
    "start_time": "2025-01-27T09:52:36.551Z"
   },
   {
    "duration": 52,
    "start_time": "2025-01-27T09:52:36.695Z"
   },
   {
    "duration": 37,
    "start_time": "2025-01-27T09:52:36.749Z"
   },
   {
    "duration": 51,
    "start_time": "2025-01-27T09:52:36.788Z"
   },
   {
    "duration": 18,
    "start_time": "2025-01-27T09:52:36.842Z"
   },
   {
    "duration": 32,
    "start_time": "2025-01-27T09:52:36.862Z"
   },
   {
    "duration": 18,
    "start_time": "2025-01-27T09:52:36.896Z"
   },
   {
    "duration": 159,
    "start_time": "2025-01-27T09:52:36.916Z"
   },
   {
    "duration": 9,
    "start_time": "2025-01-27T09:52:37.077Z"
   },
   {
    "duration": 311,
    "start_time": "2025-01-27T09:52:37.088Z"
   },
   {
    "duration": 9,
    "start_time": "2025-01-27T09:52:37.408Z"
   },
   {
    "duration": 278,
    "start_time": "2025-01-27T09:52:37.419Z"
   },
   {
    "duration": 628,
    "start_time": "2025-01-27T09:52:37.699Z"
   },
   {
    "duration": 430,
    "start_time": "2025-01-27T09:52:38.329Z"
   },
   {
    "duration": 209,
    "start_time": "2025-01-27T09:52:38.760Z"
   },
   {
    "duration": 194,
    "start_time": "2025-01-27T09:52:38.971Z"
   },
   {
    "duration": 333,
    "start_time": "2025-01-27T09:52:39.167Z"
   },
   {
    "duration": 242,
    "start_time": "2025-01-27T09:52:39.508Z"
   },
   {
    "duration": 799,
    "start_time": "2025-01-27T09:52:39.752Z"
   },
   {
    "duration": 678,
    "start_time": "2025-01-27T09:52:40.553Z"
   },
   {
    "duration": 234,
    "start_time": "2025-01-27T09:52:41.234Z"
   },
   {
    "duration": 9,
    "start_time": "2025-01-27T09:52:41.470Z"
   },
   {
    "duration": 294,
    "start_time": "2025-01-27T09:52:41.481Z"
   },
   {
    "duration": 10,
    "start_time": "2025-01-27T09:52:41.777Z"
   },
   {
    "duration": 254,
    "start_time": "2025-01-27T09:52:41.790Z"
   },
   {
    "duration": 834,
    "start_time": "2025-01-27T09:52:42.046Z"
   },
   {
    "duration": 714,
    "start_time": "2025-01-27T09:52:42.882Z"
   },
   {
    "duration": 13,
    "start_time": "2025-01-27T09:52:43.598Z"
   },
   {
    "duration": 67,
    "start_time": "2025-01-27T09:52:43.614Z"
   },
   {
    "duration": 28,
    "start_time": "2025-01-27T09:52:43.683Z"
   },
   {
    "duration": 16,
    "start_time": "2025-01-27T09:52:43.713Z"
   },
   {
    "duration": 13,
    "start_time": "2025-01-27T09:52:43.733Z"
   },
   {
    "duration": 6,
    "start_time": "2025-01-27T09:52:43.748Z"
   },
   {
    "duration": 4,
    "start_time": "2025-01-27T09:55:07.007Z"
   },
   {
    "duration": 88,
    "start_time": "2025-01-27T09:55:07.167Z"
   },
   {
    "duration": 12,
    "start_time": "2025-01-27T09:55:07.335Z"
   },
   {
    "duration": 12,
    "start_time": "2025-01-27T09:55:07.471Z"
   },
   {
    "duration": 9,
    "start_time": "2025-01-27T09:55:08.158Z"
   },
   {
    "duration": 9,
    "start_time": "2025-01-27T09:55:08.334Z"
   },
   {
    "duration": 10,
    "start_time": "2025-01-27T09:55:08.687Z"
   },
   {
    "duration": 5,
    "start_time": "2025-01-27T09:55:09.039Z"
   },
   {
    "duration": 5,
    "start_time": "2025-01-27T09:55:09.223Z"
   },
   {
    "duration": 9,
    "start_time": "2025-01-27T09:55:09.599Z"
   },
   {
    "duration": 4,
    "start_time": "2025-01-27T09:55:09.979Z"
   },
   {
    "duration": 4,
    "start_time": "2025-01-27T09:55:10.167Z"
   },
   {
    "duration": 4,
    "start_time": "2025-01-27T09:55:10.551Z"
   },
   {
    "duration": 4,
    "start_time": "2025-01-27T09:55:10.727Z"
   },
   {
    "duration": 4,
    "start_time": "2025-01-27T09:55:10.903Z"
   },
   {
    "duration": 10,
    "start_time": "2025-01-27T09:55:11.262Z"
   },
   {
    "duration": 138,
    "start_time": "2025-01-27T09:55:11.431Z"
   },
   {
    "duration": 9,
    "start_time": "2025-01-27T09:55:11.782Z"
   },
   {
    "duration": 291,
    "start_time": "2025-01-27T09:55:11.967Z"
   },
   {
    "duration": 9,
    "start_time": "2025-01-27T09:55:12.359Z"
   },
   {
    "duration": 425,
    "start_time": "2025-01-27T09:55:12.559Z"
   },
   {
    "duration": 592,
    "start_time": "2025-01-27T09:55:13.536Z"
   },
   {
    "duration": 330,
    "start_time": "2025-01-27T09:55:14.335Z"
   },
   {
    "duration": 220,
    "start_time": "2025-01-27T09:55:14.999Z"
   },
   {
    "duration": 186,
    "start_time": "2025-01-27T09:55:15.727Z"
   },
   {
    "duration": 338,
    "start_time": "2025-01-27T09:55:17.007Z"
   },
   {
    "duration": 242,
    "start_time": "2025-01-27T09:55:18.527Z"
   },
   {
    "duration": 887,
    "start_time": "2025-01-27T09:55:20.726Z"
   },
   {
    "duration": 661,
    "start_time": "2025-01-27T09:55:22.467Z"
   },
   {
    "duration": 244,
    "start_time": "2025-01-27T09:55:24.823Z"
   },
   {
    "duration": 9,
    "start_time": "2025-01-27T09:55:28.824Z"
   },
   {
    "duration": 232,
    "start_time": "2025-01-27T09:55:29.253Z"
   },
   {
    "duration": 9,
    "start_time": "2025-01-27T09:55:31.318Z"
   },
   {
    "duration": 240,
    "start_time": "2025-01-27T09:55:32.871Z"
   },
   {
    "duration": 228,
    "start_time": "2025-01-27T09:55:38.856Z"
   },
   {
    "duration": 933,
    "start_time": "2025-01-27T09:55:41.063Z"
   },
   {
    "duration": 723,
    "start_time": "2025-01-27T09:55:41.998Z"
   },
   {
    "duration": 5,
    "start_time": "2025-01-27T09:55:48.342Z"
   },
   {
    "duration": 14,
    "start_time": "2025-01-27T09:55:59.623Z"
   },
   {
    "duration": 110,
    "start_time": "2025-01-27T09:56:33.287Z"
   },
   {
    "duration": 11,
    "start_time": "2025-01-27T09:56:39.293Z"
   },
   {
    "duration": 5,
    "start_time": "2025-01-27T09:56:43.840Z"
   },
   {
    "duration": 63,
    "start_time": "2025-01-27T09:56:53.793Z"
   },
   {
    "duration": 62,
    "start_time": "2025-01-27T09:57:19.352Z"
   },
   {
    "duration": 61,
    "start_time": "2025-01-27T09:57:36.112Z"
   },
   {
    "duration": 65,
    "start_time": "2025-01-27T10:56:31.515Z"
   },
   {
    "duration": 6,
    "start_time": "2025-01-27T11:31:53.346Z"
   },
   {
    "duration": 13,
    "start_time": "2025-01-27T11:32:09.874Z"
   },
   {
    "duration": 15,
    "start_time": "2025-01-27T11:32:25.849Z"
   },
   {
    "duration": 14,
    "start_time": "2025-01-27T11:32:32.635Z"
   },
   {
    "duration": 1205,
    "start_time": "2025-01-27T11:34:53.758Z"
   },
   {
    "duration": 92,
    "start_time": "2025-01-27T11:34:54.965Z"
   },
   {
    "duration": 20,
    "start_time": "2025-01-27T11:34:55.059Z"
   },
   {
    "duration": 48,
    "start_time": "2025-01-27T11:34:55.083Z"
   },
   {
    "duration": 17,
    "start_time": "2025-01-27T11:34:55.132Z"
   },
   {
    "duration": 15,
    "start_time": "2025-01-27T11:34:55.151Z"
   },
   {
    "duration": 13,
    "start_time": "2025-01-27T11:34:55.168Z"
   },
   {
    "duration": 74,
    "start_time": "2025-01-27T11:34:55.183Z"
   },
   {
    "duration": 50,
    "start_time": "2025-01-27T11:34:55.259Z"
   },
   {
    "duration": 15,
    "start_time": "2025-01-27T11:34:55.312Z"
   },
   {
    "duration": 11,
    "start_time": "2025-01-27T11:34:55.330Z"
   },
   {
    "duration": 19,
    "start_time": "2025-01-27T11:34:55.343Z"
   },
   {
    "duration": 30,
    "start_time": "2025-01-27T11:34:55.364Z"
   },
   {
    "duration": 5,
    "start_time": "2025-01-27T11:34:55.396Z"
   },
   {
    "duration": 7,
    "start_time": "2025-01-27T11:34:55.403Z"
   },
   {
    "duration": 13,
    "start_time": "2025-01-27T11:34:55.412Z"
   },
   {
    "duration": 165,
    "start_time": "2025-01-27T11:34:55.427Z"
   },
   {
    "duration": 18,
    "start_time": "2025-01-27T11:34:55.594Z"
   },
   {
    "duration": 329,
    "start_time": "2025-01-27T11:34:55.614Z"
   },
   {
    "duration": 9,
    "start_time": "2025-01-27T11:34:55.945Z"
   },
   {
    "duration": 293,
    "start_time": "2025-01-27T11:34:55.956Z"
   },
   {
    "duration": 667,
    "start_time": "2025-01-27T11:34:56.251Z"
   },
   {
    "duration": 441,
    "start_time": "2025-01-27T11:34:56.920Z"
   },
   {
    "duration": 209,
    "start_time": "2025-01-27T11:34:57.363Z"
   },
   {
    "duration": 207,
    "start_time": "2025-01-27T11:34:57.574Z"
   },
   {
    "duration": 350,
    "start_time": "2025-01-27T11:34:57.783Z"
   },
   {
    "duration": 246,
    "start_time": "2025-01-27T11:34:58.135Z"
   },
   {
    "duration": 774,
    "start_time": "2025-01-27T11:34:58.385Z"
   },
   {
    "duration": 663,
    "start_time": "2025-01-27T11:34:59.161Z"
   },
   {
    "duration": 243,
    "start_time": "2025-01-27T11:34:59.826Z"
   },
   {
    "duration": 9,
    "start_time": "2025-01-27T11:35:00.071Z"
   },
   {
    "duration": 396,
    "start_time": "2025-01-27T11:35:00.082Z"
   },
   {
    "duration": 9,
    "start_time": "2025-01-27T11:35:00.480Z"
   },
   {
    "duration": 286,
    "start_time": "2025-01-27T11:35:00.491Z"
   },
   {
    "duration": 867,
    "start_time": "2025-01-27T11:35:00.779Z"
   },
   {
    "duration": 744,
    "start_time": "2025-01-27T11:35:01.648Z"
   },
   {
    "duration": 5,
    "start_time": "2025-01-27T11:35:02.393Z"
   },
   {
    "duration": 69,
    "start_time": "2025-01-27T11:35:02.408Z"
   },
   {
    "duration": 33,
    "start_time": "2025-01-27T11:35:02.479Z"
   },
   {
    "duration": 14,
    "start_time": "2025-01-27T11:35:02.514Z"
   },
   {
    "duration": 71,
    "start_time": "2025-01-27T11:35:02.529Z"
   },
   {
    "duration": 12,
    "start_time": "2025-01-27T11:35:02.602Z"
   },
   {
    "duration": 13,
    "start_time": "2025-01-27T11:37:28.815Z"
   },
   {
    "duration": 14,
    "start_time": "2025-01-27T11:37:50.951Z"
   },
   {
    "duration": 13,
    "start_time": "2025-01-27T11:38:13.950Z"
   },
   {
    "duration": 6,
    "start_time": "2025-01-27T11:38:28.896Z"
   },
   {
    "duration": 12,
    "start_time": "2025-01-27T11:39:30.758Z"
   },
   {
    "duration": 12,
    "start_time": "2025-01-27T11:39:45.152Z"
   },
   {
    "duration": 13,
    "start_time": "2025-01-27T11:39:58.888Z"
   },
   {
    "duration": 13,
    "start_time": "2025-01-27T11:40:31.404Z"
   },
   {
    "duration": 13,
    "start_time": "2025-01-27T11:40:34.718Z"
   },
   {
    "duration": 1249,
    "start_time": "2025-01-27T11:40:43.921Z"
   },
   {
    "duration": 77,
    "start_time": "2025-01-27T11:40:45.172Z"
   },
   {
    "duration": 17,
    "start_time": "2025-01-27T11:40:45.250Z"
   },
   {
    "duration": 77,
    "start_time": "2025-01-27T11:40:45.269Z"
   },
   {
    "duration": 25,
    "start_time": "2025-01-27T11:40:45.350Z"
   },
   {
    "duration": 16,
    "start_time": "2025-01-27T11:40:45.377Z"
   },
   {
    "duration": 22,
    "start_time": "2025-01-27T11:40:45.395Z"
   },
   {
    "duration": 6,
    "start_time": "2025-01-27T11:40:45.418Z"
   },
   {
    "duration": 9,
    "start_time": "2025-01-27T11:40:45.426Z"
   },
   {
    "duration": 15,
    "start_time": "2025-01-27T11:40:45.437Z"
   },
   {
    "duration": 4,
    "start_time": "2025-01-27T11:40:45.454Z"
   },
   {
    "duration": 7,
    "start_time": "2025-01-27T11:40:45.459Z"
   },
   {
    "duration": 8,
    "start_time": "2025-01-27T11:40:45.468Z"
   },
   {
    "duration": 28,
    "start_time": "2025-01-27T11:40:45.480Z"
   },
   {
    "duration": 4,
    "start_time": "2025-01-27T11:40:45.509Z"
   },
   {
    "duration": 24,
    "start_time": "2025-01-27T11:40:45.515Z"
   },
   {
    "duration": 160,
    "start_time": "2025-01-27T11:40:45.540Z"
   },
   {
    "duration": 9,
    "start_time": "2025-01-27T11:40:45.707Z"
   },
   {
    "duration": 324,
    "start_time": "2025-01-27T11:40:45.718Z"
   },
   {
    "duration": 9,
    "start_time": "2025-01-27T11:40:46.044Z"
   },
   {
    "duration": 295,
    "start_time": "2025-01-27T11:40:46.055Z"
   },
   {
    "duration": 670,
    "start_time": "2025-01-27T11:40:46.351Z"
   },
   {
    "duration": 428,
    "start_time": "2025-01-27T11:40:47.023Z"
   },
   {
    "duration": 211,
    "start_time": "2025-01-27T11:40:47.452Z"
   },
   {
    "duration": 201,
    "start_time": "2025-01-27T11:40:47.665Z"
   },
   {
    "duration": 351,
    "start_time": "2025-01-27T11:40:47.868Z"
   },
   {
    "duration": 266,
    "start_time": "2025-01-27T11:40:48.221Z"
   },
   {
    "duration": 795,
    "start_time": "2025-01-27T11:40:48.488Z"
   },
   {
    "duration": 675,
    "start_time": "2025-01-27T11:40:49.287Z"
   },
   {
    "duration": 230,
    "start_time": "2025-01-27T11:40:49.963Z"
   },
   {
    "duration": 13,
    "start_time": "2025-01-27T11:40:50.195Z"
   },
   {
    "duration": 253,
    "start_time": "2025-01-27T11:40:50.210Z"
   },
   {
    "duration": 8,
    "start_time": "2025-01-27T11:40:50.465Z"
   },
   {
    "duration": 268,
    "start_time": "2025-01-27T11:40:50.474Z"
   },
   {
    "duration": 853,
    "start_time": "2025-01-27T11:40:50.744Z"
   },
   {
    "duration": 715,
    "start_time": "2025-01-27T11:40:51.599Z"
   },
   {
    "duration": 4,
    "start_time": "2025-01-27T11:40:52.316Z"
   },
   {
    "duration": 87,
    "start_time": "2025-01-27T11:40:52.322Z"
   },
   {
    "duration": 14,
    "start_time": "2025-01-27T11:40:52.410Z"
   },
   {
    "duration": 13,
    "start_time": "2025-01-27T11:40:52.426Z"
   },
   {
    "duration": 24,
    "start_time": "2025-01-27T11:40:52.443Z"
   },
   {
    "duration": 6,
    "start_time": "2025-01-27T11:40:52.469Z"
   },
   {
    "duration": 67,
    "start_time": "2025-01-27T11:42:35.531Z"
   },
   {
    "duration": 1205,
    "start_time": "2025-01-27T11:44:31.663Z"
   },
   {
    "duration": 91,
    "start_time": "2025-01-27T11:44:32.870Z"
   },
   {
    "duration": 16,
    "start_time": "2025-01-27T11:44:32.962Z"
   },
   {
    "duration": 13,
    "start_time": "2025-01-27T11:44:32.980Z"
   },
   {
    "duration": 8,
    "start_time": "2025-01-27T11:44:32.995Z"
   },
   {
    "duration": 10,
    "start_time": "2025-01-27T11:44:33.005Z"
   },
   {
    "duration": 34,
    "start_time": "2025-01-27T11:44:33.016Z"
   },
   {
    "duration": 20,
    "start_time": "2025-01-27T11:44:33.052Z"
   },
   {
    "duration": 15,
    "start_time": "2025-01-27T11:44:33.074Z"
   },
   {
    "duration": 19,
    "start_time": "2025-01-27T11:44:33.091Z"
   },
   {
    "duration": 19,
    "start_time": "2025-01-27T11:44:33.113Z"
   },
   {
    "duration": 19,
    "start_time": "2025-01-27T11:44:33.134Z"
   },
   {
    "duration": 26,
    "start_time": "2025-01-27T11:44:33.155Z"
   },
   {
    "duration": 12,
    "start_time": "2025-01-27T11:44:33.184Z"
   },
   {
    "duration": 24,
    "start_time": "2025-01-27T11:44:33.198Z"
   },
   {
    "duration": 125,
    "start_time": "2025-01-27T11:44:33.224Z"
   },
   {
    "duration": 168,
    "start_time": "2025-01-27T11:44:33.351Z"
   },
   {
    "duration": 10,
    "start_time": "2025-01-27T11:44:33.521Z"
   },
   {
    "duration": 316,
    "start_time": "2025-01-27T11:44:33.532Z"
   },
   {
    "duration": 8,
    "start_time": "2025-01-27T11:44:33.850Z"
   },
   {
    "duration": 293,
    "start_time": "2025-01-27T11:44:33.860Z"
   },
   {
    "duration": 662,
    "start_time": "2025-01-27T11:44:34.155Z"
   },
   {
    "duration": 463,
    "start_time": "2025-01-27T11:44:34.819Z"
   },
   {
    "duration": 221,
    "start_time": "2025-01-27T11:44:35.284Z"
   },
   {
    "duration": 206,
    "start_time": "2025-01-27T11:44:35.507Z"
   },
   {
    "duration": 345,
    "start_time": "2025-01-27T11:44:35.715Z"
   },
   {
    "duration": 248,
    "start_time": "2025-01-27T11:44:36.062Z"
   },
   {
    "duration": 801,
    "start_time": "2025-01-27T11:44:36.312Z"
   },
   {
    "duration": 684,
    "start_time": "2025-01-27T11:44:37.115Z"
   },
   {
    "duration": 232,
    "start_time": "2025-01-27T11:44:37.801Z"
   },
   {
    "duration": 9,
    "start_time": "2025-01-27T11:44:38.035Z"
   },
   {
    "duration": 249,
    "start_time": "2025-01-27T11:44:38.047Z"
   },
   {
    "duration": 18,
    "start_time": "2025-01-27T11:44:38.297Z"
   },
   {
    "duration": 246,
    "start_time": "2025-01-27T11:44:38.316Z"
   },
   {
    "duration": 852,
    "start_time": "2025-01-27T11:44:38.564Z"
   },
   {
    "duration": 725,
    "start_time": "2025-01-27T11:44:39.418Z"
   },
   {
    "duration": 4,
    "start_time": "2025-01-27T11:44:40.145Z"
   },
   {
    "duration": 86,
    "start_time": "2025-01-27T11:44:40.151Z"
   },
   {
    "duration": 14,
    "start_time": "2025-01-27T11:44:40.239Z"
   },
   {
    "duration": 13,
    "start_time": "2025-01-27T11:44:40.255Z"
   },
   {
    "duration": 42,
    "start_time": "2025-01-27T11:44:40.272Z"
   },
   {
    "duration": 15,
    "start_time": "2025-01-27T11:44:40.316Z"
   },
   {
    "duration": 1274,
    "start_time": "2025-01-28T11:26:28.089Z"
   },
   {
    "duration": 111,
    "start_time": "2025-01-28T11:26:29.366Z"
   },
   {
    "duration": 15,
    "start_time": "2025-01-28T11:26:29.478Z"
   },
   {
    "duration": 12,
    "start_time": "2025-01-28T11:26:29.494Z"
   },
   {
    "duration": 7,
    "start_time": "2025-01-28T11:26:29.509Z"
   },
   {
    "duration": 10,
    "start_time": "2025-01-28T11:26:29.518Z"
   },
   {
    "duration": 10,
    "start_time": "2025-01-28T11:26:29.529Z"
   },
   {
    "duration": 4,
    "start_time": "2025-01-28T11:26:29.541Z"
   },
   {
    "duration": 15,
    "start_time": "2025-01-28T11:26:29.546Z"
   },
   {
    "duration": 10,
    "start_time": "2025-01-28T11:26:29.562Z"
   },
   {
    "duration": 3,
    "start_time": "2025-01-28T11:26:29.573Z"
   },
   {
    "duration": 6,
    "start_time": "2025-01-28T11:26:29.578Z"
   },
   {
    "duration": 3,
    "start_time": "2025-01-28T11:26:29.586Z"
   },
   {
    "duration": 3,
    "start_time": "2025-01-28T11:26:29.591Z"
   },
   {
    "duration": 4,
    "start_time": "2025-01-28T11:26:29.596Z"
   },
   {
    "duration": 9,
    "start_time": "2025-01-28T11:26:29.632Z"
   },
   {
    "duration": 156,
    "start_time": "2025-01-28T11:26:29.642Z"
   },
   {
    "duration": 8,
    "start_time": "2025-01-28T11:26:29.800Z"
   },
   {
    "duration": 301,
    "start_time": "2025-01-28T11:26:29.810Z"
   },
   {
    "duration": 8,
    "start_time": "2025-01-28T11:26:30.113Z"
   },
   {
    "duration": 337,
    "start_time": "2025-01-28T11:26:30.133Z"
   },
   {
    "duration": 691,
    "start_time": "2025-01-28T11:26:30.471Z"
   },
   {
    "duration": 386,
    "start_time": "2025-01-28T11:26:31.163Z"
   },
   {
    "duration": 191,
    "start_time": "2025-01-28T11:26:31.551Z"
   },
   {
    "duration": 182,
    "start_time": "2025-01-28T11:26:31.744Z"
   },
   {
    "duration": 316,
    "start_time": "2025-01-28T11:26:31.928Z"
   },
   {
    "duration": 211,
    "start_time": "2025-01-28T11:26:32.246Z"
   },
   {
    "duration": 706,
    "start_time": "2025-01-28T11:26:32.459Z"
   },
   {
    "duration": 625,
    "start_time": "2025-01-28T11:26:33.166Z"
   },
   {
    "duration": 212,
    "start_time": "2025-01-28T11:26:33.793Z"
   },
   {
    "duration": 8,
    "start_time": "2025-01-28T11:26:34.007Z"
   },
   {
    "duration": 241,
    "start_time": "2025-01-28T11:26:34.017Z"
   },
   {
    "duration": 8,
    "start_time": "2025-01-28T11:26:34.260Z"
   },
   {
    "duration": 229,
    "start_time": "2025-01-28T11:26:34.270Z"
   },
   {
    "duration": 776,
    "start_time": "2025-01-28T11:26:34.501Z"
   },
   {
    "duration": 644,
    "start_time": "2025-01-28T11:26:35.279Z"
   },
   {
    "duration": 3,
    "start_time": "2025-01-28T11:26:35.933Z"
   },
   {
    "duration": 82,
    "start_time": "2025-01-28T11:26:35.938Z"
   },
   {
    "duration": 15,
    "start_time": "2025-01-28T11:26:36.022Z"
   },
   {
    "duration": 88,
    "start_time": "2025-01-28T11:26:36.039Z"
   },
   {
    "duration": 16,
    "start_time": "2025-01-28T11:26:36.131Z"
   },
   {
    "duration": 34,
    "start_time": "2025-01-28T11:26:36.149Z"
   },
   {
    "duration": 48,
    "start_time": "2025-01-28T11:56:09.589Z"
   },
   {
    "duration": 1301,
    "start_time": "2025-01-28T11:56:15.217Z"
   },
   {
    "duration": 53,
    "start_time": "2025-01-28T11:56:17.698Z"
   },
   {
    "duration": 14,
    "start_time": "2025-01-28T11:56:19.114Z"
   },
   {
    "duration": 12,
    "start_time": "2025-01-28T11:56:19.497Z"
   },
   {
    "duration": 7,
    "start_time": "2025-01-28T11:56:20.553Z"
   },
   {
    "duration": 9,
    "start_time": "2025-01-28T11:56:20.722Z"
   },
   {
    "duration": 9,
    "start_time": "2025-01-28T11:56:21.066Z"
   },
   {
    "duration": 4,
    "start_time": "2025-01-28T11:56:21.433Z"
   },
   {
    "duration": 4,
    "start_time": "2025-01-28T11:56:21.633Z"
   },
   {
    "duration": 8,
    "start_time": "2025-01-28T11:56:22.026Z"
   },
   {
    "duration": 3,
    "start_time": "2025-01-28T11:56:22.425Z"
   },
   {
    "duration": 4,
    "start_time": "2025-01-28T11:56:22.845Z"
   },
   {
    "duration": 4,
    "start_time": "2025-01-28T11:56:23.377Z"
   },
   {
    "duration": 4,
    "start_time": "2025-01-28T11:56:23.562Z"
   },
   {
    "duration": 3,
    "start_time": "2025-01-28T11:56:23.737Z"
   },
   {
    "duration": 8,
    "start_time": "2025-01-28T11:56:24.121Z"
   },
   {
    "duration": 170,
    "start_time": "2025-01-28T11:56:24.345Z"
   },
   {
    "duration": 9,
    "start_time": "2025-01-28T11:56:25.016Z"
   },
   {
    "duration": 282,
    "start_time": "2025-01-28T11:56:25.289Z"
   },
   {
    "duration": 7,
    "start_time": "2025-01-28T11:56:27.153Z"
   },
   {
    "duration": 259,
    "start_time": "2025-01-28T11:56:27.553Z"
   },
   {
    "duration": 1218,
    "start_time": "2025-01-28T11:56:41.984Z"
   },
   {
    "duration": 9,
    "start_time": "2025-01-28T11:56:51.577Z"
   },
   {
    "duration": 512,
    "start_time": "2025-01-28T11:56:52.506Z"
   },
   {
    "duration": 124,
    "start_time": "2025-01-28T12:54:31.711Z"
   },
   {
    "duration": 1226,
    "start_time": "2025-01-28T12:54:55.383Z"
   },
   {
    "duration": 110,
    "start_time": "2025-01-28T12:54:56.611Z"
   },
   {
    "duration": 14,
    "start_time": "2025-01-28T12:54:56.722Z"
   },
   {
    "duration": 74,
    "start_time": "2025-01-28T12:54:56.737Z"
   },
   {
    "duration": 12,
    "start_time": "2025-01-28T12:54:56.813Z"
   },
   {
    "duration": 8,
    "start_time": "2025-01-28T12:54:56.827Z"
   },
   {
    "duration": 9,
    "start_time": "2025-01-28T12:54:56.836Z"
   },
   {
    "duration": 4,
    "start_time": "2025-01-28T12:54:56.846Z"
   },
   {
    "duration": 6,
    "start_time": "2025-01-28T12:54:56.851Z"
   },
   {
    "duration": 10,
    "start_time": "2025-01-28T12:54:56.858Z"
   },
   {
    "duration": 4,
    "start_time": "2025-01-28T12:54:56.870Z"
   },
   {
    "duration": 4,
    "start_time": "2025-01-28T12:54:56.902Z"
   },
   {
    "duration": 10,
    "start_time": "2025-01-28T12:54:56.907Z"
   },
   {
    "duration": 4,
    "start_time": "2025-01-28T12:54:56.920Z"
   },
   {
    "duration": 11,
    "start_time": "2025-01-28T12:54:56.926Z"
   },
   {
    "duration": 25,
    "start_time": "2025-01-28T12:54:56.938Z"
   },
   {
    "duration": 143,
    "start_time": "2025-01-28T12:54:56.964Z"
   },
   {
    "duration": 8,
    "start_time": "2025-01-28T12:54:57.109Z"
   },
   {
    "duration": 288,
    "start_time": "2025-01-28T12:54:57.119Z"
   },
   {
    "duration": 9,
    "start_time": "2025-01-28T12:54:57.409Z"
   },
   {
    "duration": 279,
    "start_time": "2025-01-28T12:54:57.419Z"
   },
   {
    "duration": 9,
    "start_time": "2025-01-28T12:54:57.700Z"
   },
   {
    "duration": 477,
    "start_time": "2025-01-28T12:54:57.711Z"
   },
   {
    "duration": 379,
    "start_time": "2025-01-28T12:54:58.190Z"
   },
   {
    "duration": 194,
    "start_time": "2025-01-28T12:54:58.571Z"
   },
   {
    "duration": 187,
    "start_time": "2025-01-28T12:54:58.766Z"
   },
   {
    "duration": 323,
    "start_time": "2025-01-28T12:54:58.954Z"
   },
   {
    "duration": 228,
    "start_time": "2025-01-28T12:54:59.278Z"
   },
   {
    "duration": 720,
    "start_time": "2025-01-28T12:54:59.508Z"
   },
   {
    "duration": 634,
    "start_time": "2025-01-28T12:55:00.230Z"
   },
   {
    "duration": 216,
    "start_time": "2025-01-28T12:55:00.866Z"
   },
   {
    "duration": 8,
    "start_time": "2025-01-28T12:55:01.084Z"
   },
   {
    "duration": 215,
    "start_time": "2025-01-28T12:55:01.101Z"
   },
   {
    "duration": 8,
    "start_time": "2025-01-28T12:55:01.317Z"
   },
   {
    "duration": 240,
    "start_time": "2025-01-28T12:55:01.326Z"
   },
   {
    "duration": 788,
    "start_time": "2025-01-28T12:55:01.568Z"
   },
   {
    "duration": 711,
    "start_time": "2025-01-28T12:55:02.357Z"
   },
   {
    "duration": 4,
    "start_time": "2025-01-28T12:55:03.070Z"
   },
   {
    "duration": 76,
    "start_time": "2025-01-28T12:55:03.076Z"
   },
   {
    "duration": 12,
    "start_time": "2025-01-28T12:55:03.154Z"
   },
   {
    "duration": 51,
    "start_time": "2025-01-28T12:55:03.170Z"
   },
   {
    "duration": 22,
    "start_time": "2025-01-28T12:55:03.223Z"
   },
   {
    "duration": 12,
    "start_time": "2025-01-28T12:55:03.246Z"
   },
   {
    "duration": 57,
    "start_time": "2025-01-28T12:56:21.430Z"
   },
   {
    "duration": 62,
    "start_time": "2025-01-28T12:58:00.375Z"
   },
   {
    "duration": 61,
    "start_time": "2025-01-28T12:58:14.302Z"
   },
   {
    "duration": 56,
    "start_time": "2025-01-28T12:58:31.983Z"
   },
   {
    "duration": 58,
    "start_time": "2025-01-28T12:58:51.264Z"
   },
   {
    "duration": 60,
    "start_time": "2025-01-28T13:00:15.607Z"
   },
   {
    "duration": 54,
    "start_time": "2025-01-28T16:37:46.039Z"
   },
   {
    "duration": 1401,
    "start_time": "2025-01-28T16:37:54.325Z"
   },
   {
    "duration": 77,
    "start_time": "2025-01-28T16:37:55.729Z"
   },
   {
    "duration": 17,
    "start_time": "2025-01-28T16:37:55.808Z"
   },
   {
    "duration": 13,
    "start_time": "2025-01-28T16:37:55.827Z"
   },
   {
    "duration": 7,
    "start_time": "2025-01-28T16:37:55.842Z"
   },
   {
    "duration": 9,
    "start_time": "2025-01-28T16:37:55.851Z"
   },
   {
    "duration": 16,
    "start_time": "2025-01-28T16:37:55.861Z"
   },
   {
    "duration": 43,
    "start_time": "2025-01-28T16:37:55.878Z"
   },
   {
    "duration": 13,
    "start_time": "2025-01-28T16:37:55.923Z"
   },
   {
    "duration": 13,
    "start_time": "2025-01-28T16:37:55.937Z"
   },
   {
    "duration": 3,
    "start_time": "2025-01-28T16:37:55.952Z"
   },
   {
    "duration": 7,
    "start_time": "2025-01-28T16:37:55.956Z"
   },
   {
    "duration": 4,
    "start_time": "2025-01-28T16:37:55.964Z"
   },
   {
    "duration": 3,
    "start_time": "2025-01-28T16:37:55.971Z"
   },
   {
    "duration": 5,
    "start_time": "2025-01-28T16:37:55.976Z"
   },
   {
    "duration": 15,
    "start_time": "2025-01-28T16:37:55.982Z"
   },
   {
    "duration": 167,
    "start_time": "2025-01-28T16:37:55.999Z"
   },
   {
    "duration": 8,
    "start_time": "2025-01-28T16:37:56.167Z"
   },
   {
    "duration": 309,
    "start_time": "2025-01-28T16:37:56.176Z"
   },
   {
    "duration": 9,
    "start_time": "2025-01-28T16:37:56.487Z"
   },
   {
    "duration": 295,
    "start_time": "2025-01-28T16:37:56.497Z"
   },
   {
    "duration": 10,
    "start_time": "2025-01-28T16:37:56.794Z"
   },
   {
    "duration": 555,
    "start_time": "2025-01-28T16:37:56.805Z"
   },
   {
    "duration": 413,
    "start_time": "2025-01-28T16:37:57.361Z"
   },
   {
    "duration": 227,
    "start_time": "2025-01-28T16:37:57.776Z"
   },
   {
    "duration": 197,
    "start_time": "2025-01-28T16:37:58.006Z"
   },
   {
    "duration": 332,
    "start_time": "2025-01-28T16:37:58.205Z"
   },
   {
    "duration": 235,
    "start_time": "2025-01-28T16:37:58.539Z"
   },
   {
    "duration": 745,
    "start_time": "2025-01-28T16:37:58.776Z"
   },
   {
    "duration": 675,
    "start_time": "2025-01-28T16:37:59.522Z"
   },
   {
    "duration": 230,
    "start_time": "2025-01-28T16:38:00.199Z"
   },
   {
    "duration": 8,
    "start_time": "2025-01-28T16:38:00.431Z"
   },
   {
    "duration": 257,
    "start_time": "2025-01-28T16:38:00.441Z"
   },
   {
    "duration": 9,
    "start_time": "2025-01-28T16:38:00.700Z"
   },
   {
    "duration": 245,
    "start_time": "2025-01-28T16:38:00.710Z"
   },
   {
    "duration": 823,
    "start_time": "2025-01-28T16:38:00.957Z"
   },
   {
    "duration": 721,
    "start_time": "2025-01-28T16:38:01.781Z"
   },
   {
    "duration": 13,
    "start_time": "2025-01-28T16:38:02.505Z"
   },
   {
    "duration": 73,
    "start_time": "2025-01-28T16:38:02.520Z"
   },
   {
    "duration": 30,
    "start_time": "2025-01-28T16:38:02.595Z"
   },
   {
    "duration": 40,
    "start_time": "2025-01-28T16:38:02.629Z"
   },
   {
    "duration": 13,
    "start_time": "2025-01-28T16:38:02.670Z"
   },
   {
    "duration": 60,
    "start_time": "2025-01-28T16:38:02.684Z"
   },
   {
    "duration": 61,
    "start_time": "2025-01-28T16:38:59.457Z"
   },
   {
    "duration": 62,
    "start_time": "2025-01-28T16:39:36.883Z"
   },
   {
    "duration": 62,
    "start_time": "2025-01-28T16:41:35.270Z"
   },
   {
    "duration": 66,
    "start_time": "2025-01-28T16:42:58.889Z"
   },
   {
    "duration": 81,
    "start_time": "2025-01-28T16:44:22.534Z"
   },
   {
    "duration": 68,
    "start_time": "2025-01-28T16:45:09.898Z"
   },
   {
    "duration": 92,
    "start_time": "2025-01-28T16:55:22.125Z"
   },
   {
    "duration": 79,
    "start_time": "2025-01-28T16:56:30.635Z"
   },
   {
    "duration": 79,
    "start_time": "2025-01-28T16:58:26.987Z"
   },
   {
    "duration": 52,
    "start_time": "2025-01-28T16:59:33.599Z"
   },
   {
    "duration": 61,
    "start_time": "2025-01-28T16:59:52.750Z"
   },
   {
    "duration": 76,
    "start_time": "2025-01-28T17:00:37.197Z"
   },
   {
    "duration": 77,
    "start_time": "2025-01-28T17:01:54.132Z"
   },
   {
    "duration": 73,
    "start_time": "2025-01-28T17:02:55.120Z"
   },
   {
    "duration": 71,
    "start_time": "2025-01-28T17:15:59.597Z"
   },
   {
    "duration": 75,
    "start_time": "2025-01-28T17:22:46.206Z"
   },
   {
    "duration": 1244,
    "start_time": "2025-01-28T17:42:45.807Z"
   },
   {
    "duration": 70,
    "start_time": "2025-01-28T17:42:47.053Z"
   },
   {
    "duration": 15,
    "start_time": "2025-01-28T17:42:47.125Z"
   },
   {
    "duration": 13,
    "start_time": "2025-01-28T17:42:47.142Z"
   },
   {
    "duration": 9,
    "start_time": "2025-01-28T17:42:47.156Z"
   },
   {
    "duration": 44,
    "start_time": "2025-01-28T17:42:47.167Z"
   },
   {
    "duration": 19,
    "start_time": "2025-01-28T17:42:47.213Z"
   },
   {
    "duration": 5,
    "start_time": "2025-01-28T17:42:47.233Z"
   },
   {
    "duration": 5,
    "start_time": "2025-01-28T17:42:47.239Z"
   },
   {
    "duration": 8,
    "start_time": "2025-01-28T17:42:47.247Z"
   },
   {
    "duration": 8,
    "start_time": "2025-01-28T17:42:47.257Z"
   },
   {
    "duration": 7,
    "start_time": "2025-01-28T17:42:47.267Z"
   },
   {
    "duration": 4,
    "start_time": "2025-01-28T17:42:47.276Z"
   },
   {
    "duration": 7,
    "start_time": "2025-01-28T17:42:47.281Z"
   },
   {
    "duration": 29,
    "start_time": "2025-01-28T17:42:47.289Z"
   },
   {
    "duration": 44,
    "start_time": "2025-01-28T17:42:47.319Z"
   },
   {
    "duration": 147,
    "start_time": "2025-01-28T17:42:47.365Z"
   },
   {
    "duration": 11,
    "start_time": "2025-01-28T17:42:47.514Z"
   },
   {
    "duration": 311,
    "start_time": "2025-01-28T17:42:47.527Z"
   },
   {
    "duration": 9,
    "start_time": "2025-01-28T17:42:47.841Z"
   },
   {
    "duration": 359,
    "start_time": "2025-01-28T17:42:47.852Z"
   },
   {
    "duration": 11,
    "start_time": "2025-01-28T17:42:48.216Z"
   },
   {
    "duration": 500,
    "start_time": "2025-01-28T17:42:48.229Z"
   },
   {
    "duration": 412,
    "start_time": "2025-01-28T17:42:48.730Z"
   },
   {
    "duration": 209,
    "start_time": "2025-01-28T17:42:49.143Z"
   },
   {
    "duration": 191,
    "start_time": "2025-01-28T17:42:49.354Z"
   },
   {
    "duration": 344,
    "start_time": "2025-01-28T17:42:49.546Z"
   },
   {
    "duration": 246,
    "start_time": "2025-01-28T17:42:49.893Z"
   },
   {
    "duration": 764,
    "start_time": "2025-01-28T17:42:50.141Z"
   },
   {
    "duration": 663,
    "start_time": "2025-01-28T17:42:50.907Z"
   },
   {
    "duration": 228,
    "start_time": "2025-01-28T17:42:51.571Z"
   },
   {
    "duration": 9,
    "start_time": "2025-01-28T17:42:51.800Z"
   },
   {
    "duration": 268,
    "start_time": "2025-01-28T17:42:51.816Z"
   },
   {
    "duration": 8,
    "start_time": "2025-01-28T17:42:52.086Z"
   },
   {
    "duration": 298,
    "start_time": "2025-01-28T17:42:52.096Z"
   },
   {
    "duration": 851,
    "start_time": "2025-01-28T17:42:52.396Z"
   },
   {
    "duration": 707,
    "start_time": "2025-01-28T17:42:53.248Z"
   },
   {
    "duration": 4,
    "start_time": "2025-01-28T17:42:53.957Z"
   },
   {
    "duration": 92,
    "start_time": "2025-01-28T17:42:53.963Z"
   },
   {
    "duration": 13,
    "start_time": "2025-01-28T17:42:54.056Z"
   },
   {
    "duration": 13,
    "start_time": "2025-01-28T17:42:54.070Z"
   },
   {
    "duration": 40,
    "start_time": "2025-01-28T17:42:54.085Z"
   },
   {
    "duration": 33,
    "start_time": "2025-01-28T17:42:54.126Z"
   },
   {
    "duration": 1307,
    "start_time": "2025-01-29T07:12:29.320Z"
   },
   {
    "duration": 64,
    "start_time": "2025-01-29T07:12:30.629Z"
   },
   {
    "duration": 14,
    "start_time": "2025-01-29T07:12:30.694Z"
   },
   {
    "duration": 37,
    "start_time": "2025-01-29T07:12:30.710Z"
   },
   {
    "duration": 20,
    "start_time": "2025-01-29T07:12:30.749Z"
   },
   {
    "duration": 9,
    "start_time": "2025-01-29T07:12:30.771Z"
   },
   {
    "duration": 19,
    "start_time": "2025-01-29T07:12:30.781Z"
   },
   {
    "duration": 21,
    "start_time": "2025-01-29T07:12:30.802Z"
   },
   {
    "duration": 37,
    "start_time": "2025-01-29T07:12:30.824Z"
   },
   {
    "duration": 22,
    "start_time": "2025-01-29T07:12:30.865Z"
   },
   {
    "duration": 4,
    "start_time": "2025-01-29T07:12:30.889Z"
   },
   {
    "duration": 7,
    "start_time": "2025-01-29T07:12:30.894Z"
   },
   {
    "duration": 19,
    "start_time": "2025-01-29T07:12:30.903Z"
   },
   {
    "duration": 10,
    "start_time": "2025-01-29T07:12:30.923Z"
   },
   {
    "duration": 5,
    "start_time": "2025-01-29T07:12:30.934Z"
   },
   {
    "duration": 15,
    "start_time": "2025-01-29T07:12:30.940Z"
   },
   {
    "duration": 135,
    "start_time": "2025-01-29T07:12:30.956Z"
   },
   {
    "duration": 9,
    "start_time": "2025-01-29T07:12:31.093Z"
   },
   {
    "duration": 282,
    "start_time": "2025-01-29T07:12:31.109Z"
   },
   {
    "duration": 17,
    "start_time": "2025-01-29T07:12:31.393Z"
   },
   {
    "duration": 267,
    "start_time": "2025-01-29T07:12:31.412Z"
   },
   {
    "duration": 9,
    "start_time": "2025-01-29T07:12:31.681Z"
   },
   {
    "duration": 535,
    "start_time": "2025-01-29T07:12:31.692Z"
   },
   {
    "duration": 394,
    "start_time": "2025-01-29T07:12:32.229Z"
   },
   {
    "duration": 178,
    "start_time": "2025-01-29T07:12:32.624Z"
   },
   {
    "duration": 169,
    "start_time": "2025-01-29T07:12:32.804Z"
   },
   {
    "duration": 304,
    "start_time": "2025-01-29T07:12:32.974Z"
   },
   {
    "duration": 215,
    "start_time": "2025-01-29T07:12:33.282Z"
   },
   {
    "duration": 670,
    "start_time": "2025-01-29T07:12:33.498Z"
   },
   {
    "duration": 590,
    "start_time": "2025-01-29T07:12:34.170Z"
   },
   {
    "duration": 198,
    "start_time": "2025-01-29T07:12:34.761Z"
   },
   {
    "duration": 8,
    "start_time": "2025-01-29T07:12:34.961Z"
   },
   {
    "duration": 220,
    "start_time": "2025-01-29T07:12:34.970Z"
   },
   {
    "duration": 8,
    "start_time": "2025-01-29T07:12:35.192Z"
   },
   {
    "duration": 208,
    "start_time": "2025-01-29T07:12:35.210Z"
   },
   {
    "duration": 752,
    "start_time": "2025-01-29T07:12:35.419Z"
   },
   {
    "duration": 644,
    "start_time": "2025-01-29T07:12:36.173Z"
   },
   {
    "duration": 4,
    "start_time": "2025-01-29T07:12:36.819Z"
   },
   {
    "duration": 103,
    "start_time": "2025-01-29T07:12:36.825Z"
   },
   {
    "duration": 12,
    "start_time": "2025-01-29T07:12:36.930Z"
   },
   {
    "duration": 64,
    "start_time": "2025-01-29T07:12:36.944Z"
   },
   {
    "duration": 14,
    "start_time": "2025-01-29T07:12:37.010Z"
   },
   {
    "duration": 44,
    "start_time": "2025-01-29T07:12:37.026Z"
   }
  ],
  "kernelspec": {
   "display_name": "Python 3 (ipykernel)",
   "language": "python",
   "name": "python3"
  },
  "language_info": {
   "codemirror_mode": {
    "name": "ipython",
    "version": 3
   },
   "file_extension": ".py",
   "mimetype": "text/x-python",
   "name": "python",
   "nbconvert_exporter": "python",
   "pygments_lexer": "ipython3",
   "version": "3.9.5"
  },
  "toc": {
   "base_numbering": 1,
   "nav_menu": {},
   "number_sections": true,
   "sideBar": true,
   "skip_h1_title": true,
   "title_cell": "Table of Contents",
   "title_sidebar": "Contents",
   "toc_cell": false,
   "toc_position": {},
   "toc_section_display": true,
   "toc_window_display": false
  }
 },
 "nbformat": 4,
 "nbformat_minor": 2
}
